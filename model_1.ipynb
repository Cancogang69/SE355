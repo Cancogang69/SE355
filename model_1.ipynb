{
  "nbformat": 4,
  "nbformat_minor": 0,
  "metadata": {
    "colab": {
      "provenance": []
    },
    "kernelspec": {
      "name": "python3",
      "display_name": "Python 3"
    },
    "language_info": {
      "name": "python"
    }
  },
  "cells": [
    {
      "cell_type": "code",
      "source": [
        "def VisualizingDataset(X_, Y_):\n",
        "  X1 = X_[:, 0]\n",
        "  X2 = X_[:, 1]\n",
        "  for i, label in enumerate(np.unique(Y_)):\n",
        "    plt.scatter(X1[Y_ == label], X2[Y_ == label])\n",
        "  plt.show()"
      ],
      "metadata": {
        "id": "8uFFQW2O5jKO"
      },
      "execution_count": null,
      "outputs": []
    },
    {
      "cell_type": "markdown",
      "source": [
        "# Import library"
      ],
      "metadata": {
        "id": "_85FeSe2GTPA"
      }
    },
    {
      "cell_type": "code",
      "source": [
        "!pip install openmeteo-requests\n",
        "!pip install requests-cache retry-requests"
      ],
      "metadata": {
        "colab": {
          "base_uri": "https://localhost:8080/"
        },
        "id": "tUhE4s5SCjdb",
        "outputId": "54fed259-b9dd-4483-84fa-ba792068d9fa"
      },
      "execution_count": 3,
      "outputs": [
        {
          "output_type": "stream",
          "name": "stdout",
          "text": [
            "Collecting openmeteo-requests\n",
            "  Downloading openmeteo_requests-1.1.0-py3-none-any.whl (5.5 kB)\n",
            "Collecting openmeteo-sdk>=1.4.0 (from openmeteo-requests)\n",
            "  Downloading openmeteo_sdk-1.7.0-py3-none-any.whl (12 kB)\n",
            "Requirement already satisfied: requests in /usr/local/lib/python3.10/dist-packages (from openmeteo-requests) (2.31.0)\n",
            "Requirement already satisfied: flatbuffers>=23.0.0 in /usr/local/lib/python3.10/dist-packages (from openmeteo-sdk>=1.4.0->openmeteo-requests) (23.5.26)\n",
            "Requirement already satisfied: charset-normalizer<4,>=2 in /usr/local/lib/python3.10/dist-packages (from requests->openmeteo-requests) (3.3.2)\n",
            "Requirement already satisfied: idna<4,>=2.5 in /usr/local/lib/python3.10/dist-packages (from requests->openmeteo-requests) (3.6)\n",
            "Requirement already satisfied: urllib3<3,>=1.21.1 in /usr/local/lib/python3.10/dist-packages (from requests->openmeteo-requests) (2.0.7)\n",
            "Requirement already satisfied: certifi>=2017.4.17 in /usr/local/lib/python3.10/dist-packages (from requests->openmeteo-requests) (2023.11.17)\n",
            "Installing collected packages: openmeteo-sdk, openmeteo-requests\n",
            "Successfully installed openmeteo-requests-1.1.0 openmeteo-sdk-1.7.0\n",
            "Collecting requests-cache\n",
            "  Downloading requests_cache-1.1.1-py3-none-any.whl (60 kB)\n",
            "\u001b[2K     \u001b[90m━━━━━━━━━━━━━━━━━━━━━━━━━━━━━━━━━━━━━━━━\u001b[0m \u001b[32m60.3/60.3 kB\u001b[0m \u001b[31m2.8 MB/s\u001b[0m eta \u001b[36m0:00:00\u001b[0m\n",
            "\u001b[?25hCollecting retry-requests\n",
            "  Downloading retry_requests-2.0.0-py3-none-any.whl (15 kB)\n",
            "Requirement already satisfied: attrs>=21.2 in /usr/local/lib/python3.10/dist-packages (from requests-cache) (23.1.0)\n",
            "Collecting cattrs>=22.2 (from requests-cache)\n",
            "  Downloading cattrs-23.2.3-py3-none-any.whl (57 kB)\n",
            "\u001b[2K     \u001b[90m━━━━━━━━━━━━━━━━━━━━━━━━━━━━━━━━━━━━━━━━\u001b[0m \u001b[32m57.5/57.5 kB\u001b[0m \u001b[31m7.5 MB/s\u001b[0m eta \u001b[36m0:00:00\u001b[0m\n",
            "\u001b[?25hRequirement already satisfied: platformdirs>=2.5 in /usr/local/lib/python3.10/dist-packages (from requests-cache) (4.1.0)\n",
            "Requirement already satisfied: requests>=2.22 in /usr/local/lib/python3.10/dist-packages (from requests-cache) (2.31.0)\n",
            "Collecting url-normalize>=1.4 (from requests-cache)\n",
            "  Downloading url_normalize-1.4.3-py2.py3-none-any.whl (6.8 kB)\n",
            "Requirement already satisfied: urllib3>=1.25.5 in /usr/local/lib/python3.10/dist-packages (from requests-cache) (2.0.7)\n",
            "Requirement already satisfied: exceptiongroup>=1.1.1 in /usr/local/lib/python3.10/dist-packages (from cattrs>=22.2->requests-cache) (1.2.0)\n",
            "Requirement already satisfied: typing-extensions!=4.6.3,>=4.1.0 in /usr/local/lib/python3.10/dist-packages (from cattrs>=22.2->requests-cache) (4.5.0)\n",
            "Requirement already satisfied: charset-normalizer<4,>=2 in /usr/local/lib/python3.10/dist-packages (from requests>=2.22->requests-cache) (3.3.2)\n",
            "Requirement already satisfied: idna<4,>=2.5 in /usr/local/lib/python3.10/dist-packages (from requests>=2.22->requests-cache) (3.6)\n",
            "Requirement already satisfied: certifi>=2017.4.17 in /usr/local/lib/python3.10/dist-packages (from requests>=2.22->requests-cache) (2023.11.17)\n",
            "Requirement already satisfied: six in /usr/local/lib/python3.10/dist-packages (from url-normalize>=1.4->requests-cache) (1.16.0)\n",
            "Installing collected packages: url-normalize, cattrs, retry-requests, requests-cache\n",
            "Successfully installed cattrs-23.2.3 requests-cache-1.1.1 retry-requests-2.0.0 url-normalize-1.4.3\n"
          ]
        }
      ]
    },
    {
      "cell_type": "code",
      "execution_count": 4,
      "metadata": {
        "id": "JY3v5vRjT3Lf"
      },
      "outputs": [],
      "source": [
        "import pandas as pd\n",
        "import numpy as np\n",
        "import matplotlib.pyplot as plt\n",
        "from sklearn.preprocessing import StandardScaler, PowerTransformer, RobustScaler\n",
        "from sklearn.decomposition import PCA\n",
        "from sklearn.model_selection import train_test_split\n",
        "from sklearn.linear_model import LogisticRegression\n",
        "from sklearn.metrics import confusion_matrix, f1_score, ConfusionMatrixDisplay\n",
        "from sklearn.svm import SVC\n",
        "from sklearn.ensemble import RandomForestClassifier\n",
        "import openmeteo_requests\n",
        "import requests_cache\n",
        "from retry_requests import retry\n",
        "from datetime import date, datetime\n",
        "from dateutil.relativedelta import *\n",
        "import joblib"
      ]
    },
    {
      "cell_type": "markdown",
      "source": [
        "Read .csv file and split it to 2 np array:\n",
        "\n",
        "date contain the date of samples\n",
        "\n",
        "data contain the features of samples"
      ],
      "metadata": {
        "id": "bsIfv8PRjeSs"
      }
    },
    {
      "cell_type": "code",
      "source": [
        "random_state = 69\n",
        "data_path = \"/content/drive/MyDrive/SE355/DoAn/Data/\""
      ],
      "metadata": {
        "id": "jGisurjmOKm3"
      },
      "execution_count": null,
      "outputs": []
    },
    {
      "cell_type": "code",
      "source": [
        "csv_path = data_path + \"dataset.csv\"\n",
        "df = pd.read_csv(csv_path)\n",
        "df.head()\n",
        "date = df.iloc[:, 0:1].to_numpy()\n",
        "data = df.iloc[:, 1:-3].to_numpy().astype(np.float32)\n",
        "predict_rain = df.iloc[:, -3].to_numpy().flatten().astype(np.int8)\n",
        "predict_heat = df.iloc[:, -2].to_numpy().flatten().astype(np.int8)\n",
        "predict_cloud = df.iloc[:, -1].to_numpy().flatten().astype(np.int8)"
      ],
      "metadata": {
        "id": "ED5i2qfpVbk7"
      },
      "execution_count": null,
      "outputs": []
    },
    {
      "cell_type": "markdown",
      "source": [
        "# Plot label's distribution"
      ],
      "metadata": {
        "id": "CCJHHVMLShD1"
      }
    },
    {
      "cell_type": "code",
      "source": [
        "#labels: list of data points' label\n",
        "#use to plot the number of each label\n",
        "def plot_labels(labels):\n",
        "  unique_labels, counts = np.unique(labels, return_counts=True)\n",
        "  print(unique_labels, counts)\n",
        "  plt.bar(unique_labels, counts)\n",
        "  plt.show()\n",
        "\n",
        "plot_labels(predict_rain)\n",
        "plot_labels(predict_cloud)\n",
        "plot_labels(predict_heat)"
      ],
      "metadata": {
        "colab": {
          "base_uri": "https://localhost:8080/",
          "height": 1000
        },
        "id": "aza52Kkp97eb",
        "outputId": "e67dc1d2-ee4d-4232-c27d-15844edb2854"
      },
      "execution_count": null,
      "outputs": [
        {
          "output_type": "stream",
          "name": "stdout",
          "text": [
            "[0 1] [20869  3779]\n"
          ]
        },
        {
          "output_type": "display_data",
          "data": {
            "text/plain": [
              "<Figure size 640x480 with 1 Axes>"
            ],
            "image/png": "[encoded data removed]"
          },
          "metadata": {}
        },
        {
          "output_type": "stream",
          "name": "stdout",
          "text": [
            "[0 1] [16643  8005]\n"
          ]
        },
        {
          "output_type": "display_data",
          "data": {
            "text/plain": [
              "<Figure size 640x480 with 1 Axes>"
            ],
            "image/png": "[encoded data removed]"
          },
          "metadata": {}
        },
        {
          "output_type": "stream",
          "name": "stdout",
          "text": [
            "[0 1 2] [20979  2118  1551]\n"
          ]
        },
        {
          "output_type": "display_data",
          "data": {
            "text/plain": [
              "<Figure size 640x480 with 1 Axes>"
            ],
            "image/png": "[encoded data removed]"
          },
          "metadata": {}
        }
      ]
    },
    {
      "cell_type": "code",
      "source": [
        "#labels: list of data points'label\n",
        "#return the data points' index after undersampling\n",
        "def undersampling(labels, random_state):\n",
        "  unique_labels, counts = np.unique(labels, return_counts=True)\n",
        "  min_size = min(counts)\n",
        "  final_indices = []\n",
        "  for la in unique_labels:\n",
        "    indices = np.where(labels==la)\n",
        "    np.random.seed(random_state)\n",
        "    indices = np.random.choice(indices[0], size=min_size)\n",
        "    final_indices.append(indices)\n",
        "  return np.array(final_indices).flatten()"
      ],
      "metadata": {
        "id": "o5jkwvIlA2qI"
      },
      "execution_count": null,
      "outputs": []
    },
    {
      "cell_type": "markdown",
      "source": [
        "# Rain predict model"
      ],
      "metadata": {
        "id": "__ufJWfpSLCo"
      }
    },
    {
      "cell_type": "code",
      "source": [
        "rain_idx = undersampling(predict_rain, random_state)\n",
        "rain_data, rain_labels = data[rain_idx], predict_rain[rain_idx]\n",
        "rain_classes = np.unique(predict_rain)"
      ],
      "metadata": {
        "id": "WL2GnyqKO2lM"
      },
      "execution_count": null,
      "outputs": []
    },
    {
      "cell_type": "code",
      "source": [
        "#data point after undersampling\n",
        "plot_labels(rain_labels)"
      ],
      "metadata": {
        "colab": {
          "base_uri": "https://localhost:8080/",
          "height": 447
        },
        "id": "k_bzKViRQrqW",
        "outputId": "08a852ca-dcfa-41ba-f3de-4f30cec0f4fa"
      },
      "execution_count": null,
      "outputs": [
        {
          "output_type": "stream",
          "name": "stdout",
          "text": [
            "[0 1] [3779 3779]\n"
          ]
        },
        {
          "output_type": "display_data",
          "data": {
            "text/plain": [
              "<Figure size 640x480 with 1 Axes>"
            ],
            "image/png": "[encoded data removed]"
          },
          "metadata": {}
        }
      ]
    },
    {
      "cell_type": "code",
      "source": [
        "X_train_rain, X_test_rain, Y_train_rain, Y_test_rain = train_test_split(rain_data, rain_labels, train_size=0.8, random_state=random_state)"
      ],
      "metadata": {
        "id": "HqsjvVZwmQM_"
      },
      "execution_count": null,
      "outputs": []
    },
    {
      "cell_type": "markdown",
      "source": [
        "choose the number of component to extract with pca"
      ],
      "metadata": {
        "id": "-b7SNfHzT2oV"
      }
    },
    {
      "cell_type": "code",
      "source": [
        "scaler = StandardScaler()\n",
        "X_train_rain_scaled = scaler.fit_transform(X_train_rain)\n",
        "numbers = [10, 50, 100, 200, 300, 500, 1000, 2000, 3000]\n",
        "info_ratio = []\n",
        "for n in numbers:\n",
        "  pca = PCA(n_components=n)\n",
        "  pca.fit(X_train_rain_scaled)\n",
        "  info_ratio.append(sum(pca.explained_variance_ratio_))"
      ],
      "metadata": {
        "id": "UqPPnENKnrG0"
      },
      "execution_count": null,
      "outputs": []
    },
    {
      "cell_type": "code",
      "source": [
        "for n, ir in zip(numbers, info_ratio):\n",
        "  print(n, ir)"
      ],
      "metadata": {
        "colab": {
          "base_uri": "https://localhost:8080/"
        },
        "id": "qOE72rcyAgL0",
        "outputId": "9cab8c4b-1105-4da9-9b3d-a2f695f2fb66"
      },
      "execution_count": null,
      "outputs": [
        {
          "output_type": "stream",
          "name": "stdout",
          "text": [
            "10 0.33327684737741947\n",
            "50 0.5282930408138782\n",
            "100 0.6420404841192067\n",
            "200 0.7522217609221116\n",
            "300 0.8138007247180212\n",
            "500 0.8854492877435405\n",
            "1000 0.9598598161610425\n",
            "2000 0.9959142071593305\n",
            "3000 0.9997696052736273\n"
          ]
        }
      ]
    },
    {
      "cell_type": "markdown",
      "source": [
        "info_ratio = [0.3244775803759694,\n",
        " 0.5152207068167627,\n",
        " 0.6274218398611993,\n",
        " 0.734519753663335,\n",
        " 0.8659822312474716,\n",
        " 0.9456921817472903,\n",
        " 0.9923077647799801,\n",
        " 0.9993621863479802,\n",
        " 0.999942010548267]"
      ],
      "metadata": {
        "id": "HDbMDHgDo7fI"
      }
    },
    {
      "cell_type": "code",
      "source": [
        "plt.plot(numbers, info_ratio)"
      ],
      "metadata": {
        "id": "iBg0-o6r_EWt",
        "colab": {
          "base_uri": "https://localhost:8080/",
          "height": 447
        },
        "outputId": "aafd7a78-eab8-4994-b78d-c4cacd2fc2dc"
      },
      "execution_count": null,
      "outputs": [
        {
          "output_type": "execute_result",
          "data": {
            "text/plain": [
              "[<matplotlib.lines.Line2D at 0x795d4b084730>]"
            ]
          },
          "metadata": {},
          "execution_count": 93
        },
        {
          "output_type": "display_data",
          "data": {
            "text/plain": [
              "<Figure size 640x480 with 1 Axes>"
            ],
            "image/png": "[encoded data removed]"
          },
          "metadata": {}
        }
      ]
    },
    {
      "cell_type": "code",
      "source": [
        "def pca_scaler(X_train, X_test, pca_components):\n",
        "  scaler = StandardScaler()\n",
        "  X_train_scaled = scaler.fit_transform(X_train)\n",
        "  X_test_scaled = scaler.transform(X_test)\n",
        "\n",
        "  pca = PCA(n_components=pca_components)\n",
        "  X_train_pca = pca.fit_transform(X_train_scaled).astype(np.float32)\n",
        "  X_test_pca = pca.transform(X_test_scaled).astype(np.float32)\n",
        "\n",
        "  return X_train_pca, X_test_pca, pca, scaler"
      ],
      "metadata": {
        "id": "zflYQzhD1_wC"
      },
      "execution_count": null,
      "outputs": []
    },
    {
      "cell_type": "code",
      "source": [
        "X_train_rain_pca, X_test_rain_pca, rain_pca, rain_sc = pca_scaler(X_train_rain, X_test_rain, 500)"
      ],
      "metadata": {
        "id": "K0iV_Cu-_wOz"
      },
      "execution_count": null,
      "outputs": []
    },
    {
      "cell_type": "code",
      "source": [
        "joblib.dump(rain_pca, data_path + \"rain_pca.joblib\")\n",
        "joblib.dump(rain_sc, data_path + \"rain_sc.joblib\")"
      ],
      "metadata": {
        "colab": {
          "base_uri": "https://localhost:8080/"
        },
        "id": "2KC2BgJ0Zo26",
        "outputId": "bd5afc9a-3780-48a3-df00-a5d7993931af"
      },
      "execution_count": null,
      "outputs": [
        {
          "output_type": "execute_result",
          "data": {
            "text/plain": [
              "['/content/drive/MyDrive/SE355/DoAn/Data/rain_sc.joblib']"
            ]
          },
          "metadata": {},
          "execution_count": 105
        }
      ]
    },
    {
      "cell_type": "code",
      "source": [
        "def logistic(X_train, Y_train, X_test):\n",
        "  logis = LogisticRegression()\n",
        "  logis.fit(X_train, Y_train)\n",
        "  train_pred = logis.predict(X_train)\n",
        "  test_pred = logis.predict(X_test)\n",
        "  return train_pred, test_pred, logis"
      ],
      "metadata": {
        "id": "6XOHAKuw3FnS"
      },
      "execution_count": null,
      "outputs": []
    },
    {
      "cell_type": "code",
      "source": [
        "rain_train_pred, rain_test_pred, rain_logis= logistic(X_train_rain_pca, Y_train_rain, X_test_rain_pca)"
      ],
      "metadata": {
        "id": "bY3xMNy4DLhA",
        "colab": {
          "base_uri": "https://localhost:8080/"
        },
        "outputId": "0268c89f-7583-4828-fc4b-c3c57726db4c"
      },
      "execution_count": null,
      "outputs": [
        {
          "output_type": "stream",
          "name": "stderr",
          "text": [
            "/usr/local/lib/python3.10/dist-packages/sklearn/linear_model/_logistic.py:458: ConvergenceWarning: lbfgs failed to converge (status=1):\n",
            "STOP: TOTAL NO. of ITERATIONS REACHED LIMIT.\n",
            "\n",
            "Increase the number of iterations (max_iter) or scale the data as shown in:\n",
            "    https://scikit-learn.org/stable/modules/preprocessing.html\n",
            "Please also refer to the documentation for alternative solver options:\n",
            "    https://scikit-learn.org/stable/modules/linear_model.html#logistic-regression\n",
            "  n_iter_i = _check_optimize_result(\n"
          ]
        }
      ]
    },
    {
      "cell_type": "code",
      "source": [
        "def cm_display(true_labels, pred_labels, classes):\n",
        "  cm = confusion_matrix(true_labels, pred_labels, labels=classes)\n",
        "  disp = ConfusionMatrixDisplay(confusion_matrix=cm, display_labels=classes)\n",
        "  disp.plot()\n",
        "  plt.show()\n",
        "\n",
        "def train_test_cm_display(train_labels, train_pred, test_labels, test_pred, classes):\n",
        "  print(\"Train confusion matrix:\")\n",
        "  cm_display(train_labels, train_pred, classes)\n",
        "  print(\"\\n\\nTest confusion matrix:\")\n",
        "  cm_display(test_labels, test_pred, classes)"
      ],
      "metadata": {
        "id": "Nzz_xELb8jH6"
      },
      "execution_count": null,
      "outputs": []
    },
    {
      "cell_type": "code",
      "source": [
        "train_test_cm_display(Y_train_rain, rain_train_pred, Y_test_rain, rain_test_pred, rain_classes)"
      ],
      "metadata": {
        "colab": {
          "base_uri": "https://localhost:8080/",
          "height": 950
        },
        "id": "JbY2VKkt60jN",
        "outputId": "97dd410b-be61-432b-de0d-2fda8a44f6af"
      },
      "execution_count": null,
      "outputs": [
        {
          "output_type": "stream",
          "name": "stdout",
          "text": [
            "Train confusion matrix:\n"
          ]
        },
        {
          "output_type": "display_data",
          "data": {
            "text/plain": [
              "<Figure size 640x480 with 2 Axes>"
            ],
            "image/png": "[encoded data removed]"
          },
          "metadata": {}
        },
        {
          "output_type": "stream",
          "name": "stdout",
          "text": [
            "\n",
            "\n",
            "Test confusion matrix:\n"
          ]
        },
        {
          "output_type": "display_data",
          "data": {
            "text/plain": [
              "<Figure size 640x480 with 2 Axes>"
            ],
            "image/png": "[encoded data removed]"
          },
          "metadata": {}
        }
      ]
    },
    {
      "cell_type": "code",
      "source": [
        "def f1_score_display(Y_train, train_pred, Y_test, test_pred):\n",
        "  train_f1 = f1_score(Y_train, train_pred, average=\"macro\")\n",
        "  test_f1 = f1_score(Y_test, test_pred, average=\"macro\")\n",
        "  print(train_f1)\n",
        "  print(test_f1)"
      ],
      "metadata": {
        "id": "-XyfSHKFe4FM"
      },
      "execution_count": null,
      "outputs": []
    },
    {
      "cell_type": "code",
      "source": [
        "f1_score_display(Y_train_rain, rain_train_pred, Y_test_rain, rain_test_pred)"
      ],
      "metadata": {
        "colab": {
          "base_uri": "https://localhost:8080/"
        },
        "id": "JMAFXONvfOIv",
        "outputId": "88004768-f0f4-4af0-e63d-4b0b692498fa"
      },
      "execution_count": null,
      "outputs": [
        {
          "output_type": "stream",
          "name": "stdout",
          "text": [
            "0.8303915867067335\n",
            "0.7995567932482068\n"
          ]
        }
      ]
    },
    {
      "cell_type": "code",
      "source": [
        "def svc_with_kernel(kernel, X_train, Y_train, X_test):\n",
        "  svc = SVC(kernel= kernel)\n",
        "  svc.fit(X_train, Y_train)\n",
        "  train_pred = svc.predict(X_train)\n",
        "  test_pred = svc.predict(X_test)\n",
        "  return train_pred, test_pred, svc"
      ],
      "metadata": {
        "id": "UaaEpLlYWQLj"
      },
      "execution_count": null,
      "outputs": []
    },
    {
      "cell_type": "code",
      "source": [
        "rain_train_pred, rain_test_pred, rain_svc = svc_with_kernel(\"rbf\", X_train_rain_pca, Y_train_rain, X_test_rain_pca)"
      ],
      "metadata": {
        "id": "Z_qCCTjaX5vW"
      },
      "execution_count": null,
      "outputs": []
    },
    {
      "cell_type": "code",
      "source": [
        "train_test_cm_display(Y_train_rain, rain_train_pred, Y_test_rain, rain_test_pred, rain_classes)"
      ],
      "metadata": {
        "id": "UcXnvh5S9wvm",
        "colab": {
          "base_uri": "https://localhost:8080/",
          "height": 950
        },
        "outputId": "ed18b988-f333-4608-90a3-3895b94ec4f4"
      },
      "execution_count": null,
      "outputs": [
        {
          "output_type": "stream",
          "name": "stdout",
          "text": [
            "Train confusion matrix:\n"
          ]
        },
        {
          "output_type": "display_data",
          "data": {
            "text/plain": [
              "<Figure size 640x480 with 2 Axes>"
            ],
            "image/png": "[encoded data removed]"
          },
          "metadata": {}
        },
        {
          "output_type": "stream",
          "name": "stdout",
          "text": [
            "\n",
            "\n",
            "Test confusion matrix:\n"
          ]
        },
        {
          "output_type": "display_data",
          "data": {
            "text/plain": [
              "<Figure size 640x480 with 2 Axes>"
            ],
            "image/png": "[encoded data removed]"
          },
          "metadata": {}
        }
      ]
    },
    {
      "cell_type": "code",
      "source": [
        "f1_score_display(Y_train_rain, rain_train_pred, Y_test_rain, rain_test_pred)"
      ],
      "metadata": {
        "colab": {
          "base_uri": "https://localhost:8080/"
        },
        "id": "BoM8wctvfX7t",
        "outputId": "1183f9c2-220d-4def-d303-833f3edc8ab1"
      },
      "execution_count": null,
      "outputs": [
        {
          "output_type": "stream",
          "name": "stdout",
          "text": [
            "0.9199077297668938\n",
            "0.8531435121584137\n"
          ]
        }
      ]
    },
    {
      "cell_type": "code",
      "source": [
        "def random_forest(X_train, Y_train, X_test, ran_estimators, ran_depth):\n",
        "  ran_forest = RandomForestClassifier(n_estimators=ran_estimators, max_depth=ran_depth, random_state=random_state)\n",
        "  ran_forest.fit(X_train, Y_train)\n",
        "  train_pred = ran_forest.predict(X_train)\n",
        "  test_pred = ran_forest.predict(X_test)\n",
        "  return train_pred, test_pred, ran_forest"
      ],
      "metadata": {
        "id": "LDWtYxO8__wV"
      },
      "execution_count": null,
      "outputs": []
    },
    {
      "cell_type": "code",
      "source": [
        "rain_train_pred, rain_test_pred, rain_rf = random_forest(X_train_rain_pca, Y_train_rain, X_test_rain_pca, 200, 22)"
      ],
      "metadata": {
        "id": "qe2Jkq_aX9PZ"
      },
      "execution_count": null,
      "outputs": []
    },
    {
      "cell_type": "code",
      "source": [
        "joblib.dump(rain_rf, data_path + \"rain_rf.joblib\")"
      ],
      "metadata": {
        "colab": {
          "base_uri": "https://localhost:8080/"
        },
        "id": "gdRhIeF-aP8-",
        "outputId": "4d6bfe45-5342-423e-9843-a69f542ea2c7"
      },
      "execution_count": null,
      "outputs": [
        {
          "output_type": "execute_result",
          "data": {
            "text/plain": [
              "['/content/drive/MyDrive/SE355/DoAn/Data/rain_rf.joblib']"
            ]
          },
          "metadata": {},
          "execution_count": 106
        }
      ]
    },
    {
      "cell_type": "code",
      "source": [
        "train_test_cm_display(Y_train_rain, rain_train_pred, Y_test_rain, rain_test_pred, rain_classes)"
      ],
      "metadata": {
        "id": "aKl5dr_MCSDK",
        "colab": {
          "base_uri": "https://localhost:8080/",
          "height": 952
        },
        "outputId": "d772099e-03a1-481b-ca8a-097d6429202c"
      },
      "execution_count": null,
      "outputs": [
        {
          "output_type": "stream",
          "name": "stdout",
          "text": [
            "Train confusion matrix:\n"
          ]
        },
        {
          "output_type": "display_data",
          "data": {
            "text/plain": [
              "<Figure size 640x480 with 2 Axes>"
            ],
            "image/png": "[encoded data removed]"
          },
          "metadata": {}
        },
        {
          "output_type": "stream",
          "name": "stdout",
          "text": [
            "\n",
            "\n",
            "Test confusion matrix:\n"
          ]
        },
        {
          "output_type": "display_data",
          "data": {
            "text/plain": [
              "<Figure size 640x480 with 2 Axes>"
            ],
            "image/png": "[encoded data removed]"
          },
          "metadata": {}
        }
      ]
    },
    {
      "cell_type": "code",
      "source": [
        "f1_score_display(Y_train_rain, rain_train_pred, Y_test_rain, rain_test_pred)"
      ],
      "metadata": {
        "colab": {
          "base_uri": "https://localhost:8080/"
        },
        "id": "pioOLKd_fd89",
        "outputId": "19e8fab6-2aab-4c9e-b3c6-231d63f78e58"
      },
      "execution_count": null,
      "outputs": [
        {
          "output_type": "stream",
          "name": "stdout",
          "text": [
            "1.0\n",
            "0.8868964008792748\n"
          ]
        }
      ]
    },
    {
      "cell_type": "markdown",
      "source": [
        "# Heat predict model"
      ],
      "metadata": {
        "id": "bvV1GT1UlrxA"
      }
    },
    {
      "cell_type": "code",
      "source": [
        "heat_idx = undersampling(predict_heat, random_state)\n",
        "heat_data, heat_labels = data[heat_idx], predict_heat[heat_idx]\n",
        "heat_classes = np.unique(predict_heat)"
      ],
      "metadata": {
        "id": "_4HF-EOdoadn"
      },
      "execution_count": null,
      "outputs": []
    },
    {
      "cell_type": "code",
      "source": [
        "#data point after undersampling\n",
        "plot_labels(heat_labels)"
      ],
      "metadata": {
        "colab": {
          "base_uri": "https://localhost:8080/",
          "height": 447
        },
        "outputId": "ef2d4126-c465-4fdb-8727-c3a3b48aaa8c",
        "id": "wRojgtd9npOp"
      },
      "execution_count": null,
      "outputs": [
        {
          "output_type": "stream",
          "name": "stdout",
          "text": [
            "[0 1 2] [1551 1551 1551]\n"
          ]
        },
        {
          "output_type": "display_data",
          "data": {
            "text/plain": [
              "<Figure size 640x480 with 1 Axes>"
            ],
            "image/png": "[encoded data removed]"
          },
          "metadata": {}
        }
      ]
    },
    {
      "cell_type": "code",
      "source": [
        "X_train_heat, X_test_heat, Y_train_heat, Y_test_heat = train_test_split(heat_data, heat_labels, train_size=0.8, random_state=random_state)"
      ],
      "metadata": {
        "id": "8UiEqBOznpOp"
      },
      "execution_count": null,
      "outputs": []
    },
    {
      "cell_type": "markdown",
      "source": [
        "choose the number of component to extract with pca"
      ],
      "metadata": {
        "id": "_1tT8-1InpOp"
      }
    },
    {
      "cell_type": "code",
      "source": [
        "scaler = StandardScaler()\n",
        "X_train_heat_scaled = scaler.fit_transform(X_train_heat)\n",
        "numbers = [10, 50, 100, 200, 300, 500, 1000, 2000, 3000]\n",
        "info_ratio = []\n",
        "for n in numbers:\n",
        "  pca = PCA(n_components=n)\n",
        "  pca.fit(X_train_heat_scaled)\n",
        "  info_ratio.append(sum(pca.explained_variance_ratio_))"
      ],
      "metadata": {
        "id": "dLIJri4FnpOq"
      },
      "execution_count": null,
      "outputs": []
    },
    {
      "cell_type": "code",
      "source": [
        "for n, ir in zip(numbers, info_ratio):\n",
        "  print(n, ir)"
      ],
      "metadata": {
        "colab": {
          "base_uri": "https://localhost:8080/"
        },
        "id": "IFonX1f_ot-b",
        "outputId": "2f5de3fd-c09f-4099-b05b-49e646a658a8"
      },
      "execution_count": null,
      "outputs": [
        {
          "output_type": "stream",
          "name": "stdout",
          "text": [
            "10 0.3428170308470726\n",
            "50 0.5423535371664912\n",
            "100 0.6556849627522752\n",
            "200 0.7680918190744705\n",
            "300 0.8313702394370921\n",
            "500 0.9029920285975095\n",
            "1000 0.9718888479437737\n",
            "2000 0.9983865522167434\n",
            "3000 0.9999999412614491\n"
          ]
        }
      ]
    },
    {
      "cell_type": "markdown",
      "source": [
        "10 0.3428170308470726\n",
        "50 0.5423535371664912\n",
        "100 0.6556849627522752\n",
        "200 0.7680918190744705\n",
        "300 0.8313702394370921\n",
        "500 0.9029920285975095\n",
        "1000 0.9718888479437737\n",
        "2000 0.9983865522167434\n",
        "3000 0.9999999412614491"
      ],
      "metadata": {
        "id": "7X2AN9p8o3Ys"
      }
    },
    {
      "cell_type": "code",
      "source": [
        "plt.plot(numbers, info_ratio)"
      ],
      "metadata": {
        "colab": {
          "base_uri": "https://localhost:8080/",
          "height": 447
        },
        "outputId": "38d9874c-c6b8-450f-f402-dfa4eef2f4d6",
        "id": "n2k2dVSGnpOr"
      },
      "execution_count": null,
      "outputs": [
        {
          "output_type": "execute_result",
          "data": {
            "text/plain": [
              "[<matplotlib.lines.Line2D at 0x792a43198cd0>]"
            ]
          },
          "metadata": {},
          "execution_count": 33
        },
        {
          "output_type": "display_data",
          "data": {
            "text/plain": [
              "<Figure size 640x480 with 1 Axes>"
            ],
            "image/png": "[encoded data removed]"
          },
          "metadata": {}
        }
      ]
    },
    {
      "cell_type": "markdown",
      "source": [
        "PCA & standard scaler"
      ],
      "metadata": {
        "id": "Ols4fxbtoSJx"
      }
    },
    {
      "cell_type": "code",
      "source": [
        "X_train_heat_pca, X_test_heat_pca, heat_pca, heat_sc = pca_scaler(X_train_heat, X_test_heat, 350)"
      ],
      "metadata": {
        "id": "vlpBIHlolG2w"
      },
      "execution_count": null,
      "outputs": []
    },
    {
      "cell_type": "code",
      "source": [
        "joblib.dump(heat_pca, data_path + \"heat_pca.joblib\")\n",
        "joblib.dump(heat_sc, data_path + \"heat_sc.joblib\")"
      ],
      "metadata": {
        "colab": {
          "base_uri": "https://localhost:8080/"
        },
        "id": "KQzqCGjLacaM",
        "outputId": "5267e1b3-8286-4499-a573-3ac461cca194"
      },
      "execution_count": null,
      "outputs": [
        {
          "output_type": "execute_result",
          "data": {
            "text/plain": [
              "['/content/drive/MyDrive/SE355/DoAn/Data/heat_sc.joblib']"
            ]
          },
          "metadata": {},
          "execution_count": 107
        }
      ]
    },
    {
      "cell_type": "markdown",
      "source": [
        "Softmax regression"
      ],
      "metadata": {
        "id": "ioDL2Xv8oMgP"
      }
    },
    {
      "cell_type": "code",
      "source": [
        "heat_train_pred, heat_test_pred, heat_logis = logistic(X_train_heat_pca, Y_train_heat, X_test_heat_pca)"
      ],
      "metadata": {
        "id": "t364vXbcnpOr",
        "colab": {
          "base_uri": "https://localhost:8080/"
        },
        "outputId": "db0af0f9-0286-43c2-8850-647c72d8e47e"
      },
      "execution_count": null,
      "outputs": [
        {
          "output_type": "stream",
          "name": "stderr",
          "text": [
            "/usr/local/lib/python3.10/dist-packages/sklearn/linear_model/_logistic.py:458: ConvergenceWarning: lbfgs failed to converge (status=1):\n",
            "STOP: TOTAL NO. of ITERATIONS REACHED LIMIT.\n",
            "\n",
            "Increase the number of iterations (max_iter) or scale the data as shown in:\n",
            "    https://scikit-learn.org/stable/modules/preprocessing.html\n",
            "Please also refer to the documentation for alternative solver options:\n",
            "    https://scikit-learn.org/stable/modules/linear_model.html#logistic-regression\n",
            "  n_iter_i = _check_optimize_result(\n"
          ]
        }
      ]
    },
    {
      "cell_type": "code",
      "source": [
        "train_test_cm_display(Y_train_heat, heat_train_pred, Y_test_heat, heat_test_pred, heat_classes)"
      ],
      "metadata": {
        "colab": {
          "base_uri": "https://localhost:8080/",
          "height": 950
        },
        "id": "402HHuoylklf",
        "outputId": "6ac290d3-bb3a-4f29-ab70-a68e225932a3"
      },
      "execution_count": null,
      "outputs": [
        {
          "output_type": "stream",
          "name": "stdout",
          "text": [
            "Train confusion matrix:\n"
          ]
        },
        {
          "output_type": "display_data",
          "data": {
            "text/plain": [
              "<Figure size 640x480 with 2 Axes>"
            ],
            "image/png": "[encoded data removed]"
          },
          "metadata": {}
        },
        {
          "output_type": "stream",
          "name": "stdout",
          "text": [
            "\n",
            "\n",
            "Test confusion matrix:\n"
          ]
        },
        {
          "output_type": "display_data",
          "data": {
            "text/plain": [
              "<Figure size 640x480 with 2 Axes>"
            ],
            "image/png": "[encoded data removed]"
          },
          "metadata": {}
        }
      ]
    },
    {
      "cell_type": "code",
      "source": [
        "f1_score_display(Y_train_heat, heat_train_pred, Y_test_heat, heat_test_pred)"
      ],
      "metadata": {
        "colab": {
          "base_uri": "https://localhost:8080/"
        },
        "id": "NS7tOQ8wf7lU",
        "outputId": "6bb129c1-81b8-45e3-b9bc-1182c656eb47"
      },
      "execution_count": null,
      "outputs": [
        {
          "output_type": "stream",
          "name": "stdout",
          "text": [
            "0.9115172034315798\n",
            "0.7758529703622344\n"
          ]
        }
      ]
    },
    {
      "cell_type": "markdown",
      "source": [
        "SVM"
      ],
      "metadata": {
        "id": "dbJz77I7oI9o"
      }
    },
    {
      "cell_type": "code",
      "source": [
        "heat_train_pred, heat_test_pred, heat_svc = svc_with_kernel(\"rbf\", X_train_heat_pca, Y_train_heat, X_test_heat_pca)"
      ],
      "metadata": {
        "id": "2igu3KXsnpOr"
      },
      "execution_count": null,
      "outputs": []
    },
    {
      "cell_type": "code",
      "source": [
        "train_test_cm_display(Y_train_heat, heat_train_pred, Y_test_heat, heat_test_pred, heat_classes)"
      ],
      "metadata": {
        "colab": {
          "base_uri": "https://localhost:8080/",
          "height": 950
        },
        "id": "wynKCHNYmdpu",
        "outputId": "7ba3da78-b5d7-4896-845b-951192f7988e"
      },
      "execution_count": null,
      "outputs": [
        {
          "output_type": "stream",
          "name": "stdout",
          "text": [
            "Train confusion matrix:\n"
          ]
        },
        {
          "output_type": "display_data",
          "data": {
            "text/plain": [
              "<Figure size 640x480 with 2 Axes>"
            ],
            "image/png": "[encoded data removed]"
          },
          "metadata": {}
        },
        {
          "output_type": "stream",
          "name": "stdout",
          "text": [
            "\n",
            "\n",
            "Test confusion matrix:\n"
          ]
        },
        {
          "output_type": "display_data",
          "data": {
            "text/plain": [
              "<Figure size 640x480 with 2 Axes>"
            ],
            "image/png": "[encoded data removed]"
          },
          "metadata": {}
        }
      ]
    },
    {
      "cell_type": "code",
      "source": [
        "f1_score_display(Y_train_heat, heat_train_pred, Y_test_heat, heat_test_pred)"
      ],
      "metadata": {
        "colab": {
          "base_uri": "https://localhost:8080/"
        },
        "id": "p3zmDspdubo9",
        "outputId": "8a982b3a-ac02-44a3-9be4-b91db7e96f29"
      },
      "execution_count": null,
      "outputs": [
        {
          "output_type": "stream",
          "name": "stdout",
          "text": [
            "0.9237956134034592\n",
            "0.8185975241031804\n"
          ]
        }
      ]
    },
    {
      "cell_type": "code",
      "source": [
        "joblib.dump(heat_svc, data_path + \"heat_svc.joblib\")"
      ],
      "metadata": {
        "colab": {
          "base_uri": "https://localhost:8080/"
        },
        "id": "bvqtKbKgalLO",
        "outputId": "4e0b5377-1120-4c41-9934-722ffbd1f164"
      },
      "execution_count": null,
      "outputs": [
        {
          "output_type": "execute_result",
          "data": {
            "text/plain": [
              "['/content/drive/MyDrive/SE355/DoAn/Data/heat_svc.joblib']"
            ]
          },
          "metadata": {},
          "execution_count": 108
        }
      ]
    },
    {
      "cell_type": "markdown",
      "source": [
        "random forest"
      ],
      "metadata": {
        "id": "DEopV5B1oFGo"
      }
    },
    {
      "cell_type": "code",
      "source": [
        "heat_train_pred, heat_test_pred, heat_rf = random_forest(X_train_heat_pca, Y_train_heat, X_test_heat_pca, 150, 22)"
      ],
      "metadata": {
        "id": "pMCRA7_umkvZ"
      },
      "execution_count": null,
      "outputs": []
    },
    {
      "cell_type": "code",
      "source": [
        "train_test_cm_display(Y_train_heat, heat_train_pred, Y_test_heat, heat_test_pred, heat_classes)"
      ],
      "metadata": {
        "colab": {
          "base_uri": "https://localhost:8080/",
          "height": 950
        },
        "id": "Dp1K4VOmoAfA",
        "outputId": "dde17e78-7c13-4a95-99af-86e01f3332bc"
      },
      "execution_count": null,
      "outputs": [
        {
          "output_type": "stream",
          "name": "stdout",
          "text": [
            "Train confusion matrix:\n"
          ]
        },
        {
          "output_type": "display_data",
          "data": {
            "text/plain": [
              "<Figure size 640x480 with 2 Axes>"
            ],
            "image/png": "[encoded data removed]"
          },
          "metadata": {}
        },
        {
          "output_type": "stream",
          "name": "stdout",
          "text": [
            "\n",
            "\n",
            "Test confusion matrix:\n"
          ]
        },
        {
          "output_type": "display_data",
          "data": {
            "text/plain": [
              "<Figure size 640x480 with 2 Axes>"
            ],
            "image/png": "[encoded data removed]"
          },
          "metadata": {}
        }
      ]
    },
    {
      "cell_type": "code",
      "source": [
        "f1_score_display(Y_train_heat, heat_train_pred, Y_test_heat, heat_test_pred)"
      ],
      "metadata": {
        "colab": {
          "base_uri": "https://localhost:8080/"
        },
        "id": "tz4lAtjegX-8",
        "outputId": "13731d24-b16f-447f-c38c-7def558c1cd7"
      },
      "execution_count": null,
      "outputs": [
        {
          "output_type": "stream",
          "name": "stdout",
          "text": [
            "1.0\n",
            "0.8159209288987\n"
          ]
        }
      ]
    },
    {
      "cell_type": "markdown",
      "source": [
        "# Predict cloud cover"
      ],
      "metadata": {
        "id": "aC2-bAwItHGq"
      }
    },
    {
      "cell_type": "code",
      "source": [
        "cloud_idx = undersampling(predict_cloud, random_state)\n",
        "cloud_data, cloud_labels = data[cloud_idx], predict_cloud[cloud_idx]\n",
        "cloud_classes = np.unique(predict_cloud)"
      ],
      "metadata": {
        "id": "O0nhfxu3tW0o"
      },
      "execution_count": null,
      "outputs": []
    },
    {
      "cell_type": "code",
      "source": [
        "#data point after undersampling\n",
        "plot_labels(cloud_labels)"
      ],
      "metadata": {
        "colab": {
          "base_uri": "https://localhost:8080/",
          "height": 447
        },
        "outputId": "5075bc24-95c7-4917-8967-0b599bf342ef",
        "id": "E4IhiTkstW0o"
      },
      "execution_count": null,
      "outputs": [
        {
          "output_type": "stream",
          "name": "stdout",
          "text": [
            "[0 1] [8005 8005]\n"
          ]
        },
        {
          "output_type": "display_data",
          "data": {
            "text/plain": [
              "<Figure size 640x480 with 1 Axes>"
            ],
            "image/png": "[encoded data removed]"
          },
          "metadata": {}
        }
      ]
    },
    {
      "cell_type": "code",
      "source": [
        "X_train_cloud, X_test_cloud, Y_train_cloud, Y_test_cloud = train_test_split(cloud_data, cloud_labels, train_size=0.8, random_state=random_state)"
      ],
      "metadata": {
        "id": "hIByBlmOtW0o"
      },
      "execution_count": null,
      "outputs": []
    },
    {
      "cell_type": "markdown",
      "source": [
        "choose the number of component to extract with pca"
      ],
      "metadata": {
        "id": "2d5r8h9ltW0p"
      }
    },
    {
      "cell_type": "code",
      "source": [
        "numbers = [10, 50, 100, 200, 500, 1000, 2000, 3000, 4000]\n",
        "info_ratio = []\n",
        "for n in numbers:\n",
        "  pca = PCA(n_components=n)\n",
        "  pca.fit(X_train_cloud)\n",
        "  info_ratio.append(sum(pca.explained_variance_ratio_))"
      ],
      "metadata": {
        "id": "Acg1QczntW0p"
      },
      "execution_count": null,
      "outputs": []
    },
    {
      "cell_type": "code",
      "source": [
        "print(info_ratio)"
      ],
      "metadata": {
        "colab": {
          "base_uri": "https://localhost:8080/"
        },
        "outputId": "0112db8c-58ee-4932-f1c7-47721fe46749",
        "id": "ubKWzy_stW0p"
      },
      "execution_count": null,
      "outputs": [
        {
          "output_type": "stream",
          "name": "stdout",
          "text": [
            "[0.32827975507825613, 0.5211429537739605, 0.6339239132357761, 0.7425934176426381, 0.8749012955231592, 0.9519915169366868, 0.9938116899293163, 0.9995263105461163, 0.9999621277957189]\n"
          ]
        }
      ]
    },
    {
      "cell_type": "markdown",
      "source": [
        "info_ratio = [0.32557917200028896, 0.519470531726256, 0.6327587414998561, 0.7413287366507575, 0.8741259582457133, 0.9517678496995359, 0.993821409812881, 0.9995279015609526, 0.9999620209099831]\n"
      ],
      "metadata": {
        "id": "UMwp0Ushp2A1"
      }
    },
    {
      "cell_type": "code",
      "source": [
        "plt.plot(numbers, info_ratio)"
      ],
      "metadata": {
        "colab": {
          "base_uri": "https://localhost:8080/",
          "height": 447
        },
        "outputId": "52526cb1-aefa-4032-d578-94daf10e3bef",
        "id": "x_1xVIahtW0p"
      },
      "execution_count": null,
      "outputs": [
        {
          "output_type": "execute_result",
          "data": {
            "text/plain": [
              "[<matplotlib.lines.Line2D at 0x792a32c71f90>]"
            ]
          },
          "metadata": {},
          "execution_count": 48
        },
        {
          "output_type": "display_data",
          "data": {
            "text/plain": [
              "<Figure size 640x480 with 1 Axes>"
            ],
            "image/png": "[encoded data removed]"
          },
          "metadata": {}
        }
      ]
    },
    {
      "cell_type": "code",
      "source": [
        "X_train_cloud_pca, X_test_cloud_pca, cloud_pca, cloud_sc = pca_scaler(X_train_cloud, X_test_cloud, 500)"
      ],
      "metadata": {
        "id": "KAWT4bEctW0p"
      },
      "execution_count": null,
      "outputs": []
    },
    {
      "cell_type": "code",
      "source": [
        "joblib.dump(cloud_pca, data_path + \"cloud_pca.joblib\")\n",
        "joblib.dump(cloud_sc, data_path + \"cloud_sc.joblib\")"
      ],
      "metadata": {
        "colab": {
          "base_uri": "https://localhost:8080/"
        },
        "id": "fy3WLH1QavQO",
        "outputId": "eea017ab-7b2c-4d3c-cb7d-7a7160712186"
      },
      "execution_count": null,
      "outputs": [
        {
          "output_type": "execute_result",
          "data": {
            "text/plain": [
              "['/content/drive/MyDrive/SE355/DoAn/Data/cloud_sc.joblib']"
            ]
          },
          "metadata": {},
          "execution_count": 109
        }
      ]
    },
    {
      "cell_type": "markdown",
      "source": [
        "Softmax regression"
      ],
      "metadata": {
        "id": "V2JMWbfOq9wR"
      }
    },
    {
      "cell_type": "code",
      "source": [
        "cloud_train_pred, cloud_test_pred, cloud_logis = logistic(X_train_cloud_pca, Y_train_cloud, X_test_cloud_pca)"
      ],
      "metadata": {
        "id": "jz5hb8bftW0p"
      },
      "execution_count": null,
      "outputs": []
    },
    {
      "cell_type": "code",
      "source": [
        "train_test_cm_display(Y_train_cloud, cloud_train_pred, Y_test_cloud, cloud_test_pred, cloud_classes)"
      ],
      "metadata": {
        "colab": {
          "base_uri": "https://localhost:8080/",
          "height": 950
        },
        "id": "D-PTP3l_rIi5",
        "outputId": "3d9a51e2-8f37-4a00-cf7b-8f814b9bd03f"
      },
      "execution_count": null,
      "outputs": [
        {
          "output_type": "stream",
          "name": "stdout",
          "text": [
            "Train confusion matrix:\n"
          ]
        },
        {
          "output_type": "display_data",
          "data": {
            "text/plain": [
              "<Figure size 640x480 with 2 Axes>"
            ],
            "image/png": "[encoded data removed]"
          },
          "metadata": {}
        },
        {
          "output_type": "stream",
          "name": "stdout",
          "text": [
            "\n",
            "\n",
            "Test confusion matrix:\n"
          ]
        },
        {
          "output_type": "display_data",
          "data": {
            "text/plain": [
              "<Figure size 640x480 with 2 Axes>"
            ],
            "image/png": "[encoded data removed]"
          },
          "metadata": {}
        }
      ]
    },
    {
      "cell_type": "code",
      "source": [
        "f1_score_display(Y_train_cloud, cloud_train_pred, Y_test_cloud, cloud_test_pred)"
      ],
      "metadata": {
        "colab": {
          "base_uri": "https://localhost:8080/"
        },
        "id": "dTxxYq-Mg375",
        "outputId": "de050219-de0a-4edd-c0a5-1a12665edce4"
      },
      "execution_count": null,
      "outputs": [
        {
          "output_type": "stream",
          "name": "stdout",
          "text": [
            "0.7514685991250543\n",
            "0.7151775692621363\n"
          ]
        }
      ]
    },
    {
      "cell_type": "markdown",
      "source": [
        "SVM"
      ],
      "metadata": {
        "id": "k-hQXNngrC6O"
      }
    },
    {
      "cell_type": "code",
      "source": [
        "cloud_train_pred, cloud_test_pred, cloud_svc = svc_with_kernel(\"rbf\", X_train_cloud_pca, Y_train_cloud, X_test_cloud_pca)"
      ],
      "metadata": {
        "id": "osl2MbijtW0p"
      },
      "execution_count": null,
      "outputs": []
    },
    {
      "cell_type": "code",
      "source": [
        "train_test_cm_display(Y_train_cloud, cloud_train_pred, Y_test_cloud, cloud_test_pred, cloud_classes)"
      ],
      "metadata": {
        "colab": {
          "base_uri": "https://localhost:8080/",
          "height": 950
        },
        "id": "y4ODXE8mrK1R",
        "outputId": "16619980-57f2-42bd-a3b7-2acaeef8eb58"
      },
      "execution_count": null,
      "outputs": [
        {
          "output_type": "stream",
          "name": "stdout",
          "text": [
            "Train confusion matrix:\n"
          ]
        },
        {
          "output_type": "display_data",
          "data": {
            "text/plain": [
              "<Figure size 640x480 with 2 Axes>"
            ],
            "image/png": "[encoded data removed]"
          },
          "metadata": {}
        },
        {
          "output_type": "stream",
          "name": "stdout",
          "text": [
            "\n",
            "\n",
            "Test confusion matrix:\n"
          ]
        },
        {
          "output_type": "display_data",
          "data": {
            "text/plain": [
              "<Figure size 640x480 with 2 Axes>"
            ],
            "image/png": "[encoded data removed]"
          },
          "metadata": {}
        }
      ]
    },
    {
      "cell_type": "code",
      "source": [
        "f1_score_display(Y_train_cloud, cloud_train_pred, Y_test_cloud, cloud_test_pred)"
      ],
      "metadata": {
        "colab": {
          "base_uri": "https://localhost:8080/"
        },
        "id": "zhtlzLoNg4_q",
        "outputId": "37f91fb1-6fb7-4fed-8f24-eec1ea451f7f"
      },
      "execution_count": null,
      "outputs": [
        {
          "output_type": "stream",
          "name": "stdout",
          "text": [
            "0.8942848116754023\n",
            "0.8181829889514469\n"
          ]
        }
      ]
    },
    {
      "cell_type": "markdown",
      "source": [
        "Random forest"
      ],
      "metadata": {
        "id": "P1fG0ofZrEF8"
      }
    },
    {
      "cell_type": "code",
      "source": [
        "cloud_train_pred, cloud_test_pred, cloud_rf = random_forest(X_train_cloud_pca, Y_train_cloud, X_test_cloud_pca, 200, 22)"
      ],
      "metadata": {
        "id": "zhj83nSitW0p"
      },
      "execution_count": null,
      "outputs": []
    },
    {
      "cell_type": "code",
      "source": [
        "joblib.dump(cloud_rf, data_path + \"cloud_rf.joblib\")"
      ],
      "metadata": {
        "colab": {
          "base_uri": "https://localhost:8080/"
        },
        "id": "Raf33Mg2a3tD",
        "outputId": "7b26bb9f-3820-461e-fb04-d77485cedf89"
      },
      "execution_count": null,
      "outputs": [
        {
          "output_type": "execute_result",
          "data": {
            "text/plain": [
              "['/content/drive/MyDrive/SE355/DoAn/Data/cloud_rf.joblib']"
            ]
          },
          "metadata": {},
          "execution_count": 110
        }
      ]
    },
    {
      "cell_type": "code",
      "source": [
        "train_test_cm_display(Y_train_cloud, cloud_train_pred, Y_test_cloud, cloud_test_pred, cloud_classes)"
      ],
      "metadata": {
        "colab": {
          "base_uri": "https://localhost:8080/",
          "height": 950
        },
        "id": "VkYlaZnCrLt2",
        "outputId": "96c8254a-4040-4cb3-d039-1dc5ca220775"
      },
      "execution_count": null,
      "outputs": [
        {
          "output_type": "stream",
          "name": "stdout",
          "text": [
            "Train confusion matrix:\n"
          ]
        },
        {
          "output_type": "display_data",
          "data": {
            "text/plain": [
              "<Figure size 640x480 with 2 Axes>"
            ],
            "image/png": "[encoded data removed]"
          },
          "metadata": {}
        },
        {
          "output_type": "stream",
          "name": "stdout",
          "text": [
            "\n",
            "\n",
            "Test confusion matrix:\n"
          ]
        },
        {
          "output_type": "display_data",
          "data": {
            "text/plain": [
              "<Figure size 640x480 with 2 Axes>"
            ],
            "image/png": "[encoded data removed]"
          },
          "metadata": {}
        }
      ]
    },
    {
      "cell_type": "code",
      "source": [
        "f1_score_display(Y_train_cloud, cloud_train_pred, Y_test_cloud, cloud_test_pred)"
      ],
      "metadata": {
        "colab": {
          "base_uri": "https://localhost:8080/"
        },
        "id": "tG_zatkHhDQp",
        "outputId": "0eb9f91a-0721-42dc-a87a-4af8a66b7f54"
      },
      "execution_count": null,
      "outputs": [
        {
          "output_type": "stream",
          "name": "stdout",
          "text": [
            "1.0\n",
            "0.8700793745232944\n"
          ]
        }
      ]
    },
    {
      "cell_type": "markdown",
      "source": [
        "# Demo"
      ],
      "metadata": {
        "id": "XieCIxZBDHnx"
      }
    },
    {
      "cell_type": "code",
      "source": [
        "def get_weather_feats(lat, long, start_date, end_date):\n",
        "\t# Setup the Open-Meteo API client with cache and retry on error\n",
        "  cache_session = requests_cache.CachedSession('.cache', expire_after = -1)\n",
        "  retry_session = retry(cache_session, retries = 5, backoff_factor = 0.2)\n",
        "  openmeteo = openmeteo_requests.Client(session = retry_session)\n",
        "  hourly_feats = [\"temperature_2m\", \"relative_humidity_2m\", \"dew_point_2m\", \"apparent_temperature\",\n",
        "                  \"rain\", \"pressure_msl\", \"surface_pressure\", \"cloud_cover\", \"cloud_cover_low\", \"cloud_cover_mid\",\n",
        "                  \"cloud_cover_high\", \"wind_speed_10m\", \"wind_speed_100m\", \"wind_direction_10m\", \"wind_direction_100m\", \"wind_gusts_10m\"]\n",
        "  # Make sure all required weather variables are listed here\n",
        "  # The order of variables in hourly or daily is important to assign them correctly below\n",
        "  url = \"https://archive-api.open-meteo.com/v1/archive\"\n",
        "  params = {\n",
        "    \"latitude\": lat,\n",
        "    \"longitude\": long,\n",
        "    \"start_date\": start_date,\n",
        "    \"end_date\": end_date,\n",
        "    \"hourly\": hourly_feats,\n",
        "    # \"timezone\": \"Asia/Bangkok\"\n",
        "  }\n",
        "\n",
        "  responses = openmeteo.weather_api(url, params=params)\n",
        "\n",
        "  # Process first location. Add a for-loop for multiple locations or weather models\n",
        "  response = responses[0]\n",
        "  # print(f\"Coordinates {response.Latitude()}°E {response.Longitude()}°N\")\n",
        "  # print(f\"Elevation {response.Elevation()} m asl\")\n",
        "  # print(f\"Timezone {response.Timezone()} {response.TimezoneAbbreviation()}\")\n",
        "  # print(f\"Timezone difference to GMT+0 {response.UtcOffsetSeconds()} s\")\n",
        "\n",
        "  # Process hourly data. The order of variables needs to be the same as requested.\n",
        "  hourly = response.Hourly()\n",
        "  hourly_data = {\"date\": pd.date_range(\n",
        "    start = pd.to_datetime(hourly.Time(), unit = \"s\"),\n",
        "    end = pd.to_datetime(hourly.TimeEnd(), unit = \"s\"),\n",
        "    freq = pd.Timedelta(seconds = hourly.Interval()),\n",
        "    inclusive = \"left\"\n",
        "  )}\n",
        "\n",
        "  for i, feat in enumerate(hourly_feats):\n",
        "    hourly_data[feat] = hourly.Variables(i).ValuesAsNumpy()\n",
        "\n",
        "  hourly_dataframe = pd.DataFrame(data = hourly_data)\n",
        "  return hourly_dataframe"
      ],
      "metadata": {
        "id": "FXev2UP6DJ1w"
      },
      "execution_count": 15,
      "outputs": []
    },
    {
      "cell_type": "code",
      "source": [
        "q1_lat, q1_long = 10.7807, 106.6994\n",
        "current_date = datetime.today() - relativedelta(days=2)\n",
        "current_date = current_date.isoformat().split(\"T\")[0]\n",
        "print(\"current_date\")"
      ],
      "metadata": {
        "id": "XG7aJexIDOdm",
        "colab": {
          "base_uri": "https://localhost:8080/"
        },
        "outputId": "9689e3db-ac6b-4360-9f56-80c5d8589a9d"
      },
      "execution_count": 10,
      "outputs": [
        {
          "output_type": "stream",
          "name": "stdout",
          "text": [
            "2023-12-23\n"
          ]
        }
      ]
    },
    {
      "cell_type": "code",
      "source": [
        "test = \"2023-12-23\"\n",
        "hourly_df = get_weather_feats(q1_lat, q1_long, test, test)\n",
        "hourly_df.head(24)"
      ],
      "metadata": {
        "id": "5xD72N06GmoS",
        "colab": {
          "base_uri": "https://localhost:8080/",
          "height": 1000
        },
        "outputId": "32ea6a52-c409-4b56-816d-c74d98a726a7"
      },
      "execution_count": 16,
      "outputs": [
        {
          "output_type": "execute_result",
          "data": {
            "text/plain": [
              "                  date  temperature_2m  relative_humidity_2m  dew_point_2m  \\\n",
              "0  2023-12-23 00:00:00       24.489500             65.655739     17.639500   \n",
              "1  2023-12-23 01:00:00       25.139500             67.249718     18.639500   \n",
              "2  2023-12-23 02:00:00       26.239500             63.595459     18.789499   \n",
              "3  2023-12-23 03:00:00       27.539499             59.656425     18.989500   \n",
              "4  2023-12-23 04:00:00       28.989500             56.387268     19.439499   \n",
              "5  2023-12-23 05:00:00       30.939499             50.096413     19.339500   \n",
              "6  2023-12-23 06:00:00       31.989498             46.031807     18.939499   \n",
              "7  2023-12-23 07:00:00       32.589500             44.915600     19.089500   \n",
              "8  2023-12-23 08:00:00       31.389500             47.477875     18.889500   \n",
              "9  2023-12-23 09:00:00       30.289499             49.772243     18.639500   \n",
              "10 2023-12-23 10:00:00       28.839500             53.605442     18.489500   \n",
              "11 2023-12-23 11:00:00       27.889500             58.266674     18.939499   \n",
              "12 2023-12-23 12:00:00       27.139500             57.004074     17.889500   \n",
              "13 2023-12-23 13:00:00       26.439499             63.638824     18.989500   \n",
              "14 2023-12-23 14:00:00       25.989500             62.162243     18.189499   \n",
              "15 2023-12-23 15:00:00       25.389500             63.610237     17.989500   \n",
              "16 2023-12-23 16:00:00       25.289499             63.388721     17.839500   \n",
              "17 2023-12-23 17:00:00       24.989500             63.323074     17.539499   \n",
              "18 2023-12-23 18:00:00       24.739500             63.669289     17.389500   \n",
              "19 2023-12-23 19:00:00       24.639500             64.050934     17.389500   \n",
              "20 2023-12-23 20:00:00       24.589500             65.676666     17.739500   \n",
              "21 2023-12-23 21:00:00       24.589500             66.299774     17.889500   \n",
              "22 2023-12-23 22:00:00       24.489500             68.180618     18.239500   \n",
              "23 2023-12-23 23:00:00       24.389500             71.215477     18.839500   \n",
              "\n",
              "    apparent_temperature  rain  pressure_msl  surface_pressure  cloud_cover  \\\n",
              "0              25.303284   0.0   1014.000000       1011.907837    90.000008   \n",
              "1              26.707281   0.0   1014.799988       1012.710632    90.000008   \n",
              "2              27.551266   0.0   1015.200012       1013.117432    69.900002   \n",
              "3              29.040123   0.0   1015.000000       1012.926697    20.100002   \n",
              "4              31.179478   0.0   1014.599976       1012.537659    20.700001   \n",
              "5              33.910789   0.0   1013.500000       1011.452881    62.100002   \n",
              "6              34.114876   0.0   1012.599976       1010.561890   100.000000   \n",
              "7              33.392406   0.0   1011.400024       1009.368225    63.299999   \n",
              "8              32.020432   0.0   1011.200012       1009.160645    50.700005   \n",
              "9              30.499783   0.0   1011.299988       1009.253235   100.000000   \n",
              "10             28.738628   0.0   1012.000000       1009.941956    59.100002   \n",
              "11             28.882412   0.0   1012.700012       1010.633972    56.100002   \n",
              "12             27.473379   0.0   1013.700012       1011.626709    56.100002   \n",
              "13             28.211578   0.0   1014.799988       1012.719421    45.000004   \n",
              "14             27.140793   0.0   1015.200012       1013.115845    43.800003   \n",
              "15             26.683969   0.0   1015.099976       1013.011536    90.900009   \n",
              "16             26.664873   0.0   1015.099976       1013.010803    87.300003   \n",
              "17             25.848434   0.0   1014.700012       1012.609863    44.100002   \n",
              "18             25.533129   0.0   1014.400024       1012.308594    71.400002   \n",
              "19             25.457260   0.0   1013.700012       1011.609436    91.800003   \n",
              "20             25.969938   0.0   1013.599976       1011.509216    81.000000   \n",
              "21             25.935131   0.0   1013.599976       1011.509216    91.800003   \n",
              "22             26.246393   0.0   1014.000000       1011.907837    91.800003   \n",
              "23             26.770042   0.0   1014.799988       1012.705200    94.500000   \n",
              "\n",
              "    cloud_cover_low  cloud_cover_mid  cloud_cover_high  wind_speed_10m  \\\n",
              "0               0.0            100.0             100.0       13.276144   \n",
              "1               0.0            100.0             100.0       11.212135   \n",
              "2               0.0             67.0              99.0       13.441071   \n",
              "3               0.0             19.0              29.0       12.783802   \n",
              "4               0.0             24.0              21.0       13.849476   \n",
              "5              40.0             29.0              29.0       13.324863   \n",
              "6              85.0             24.0              31.0       14.255272   \n",
              "7              42.0             39.0               7.0       17.848160   \n",
              "8              18.0             56.0               3.0       18.388212   \n",
              "9              97.0             37.0              48.0       20.478907   \n",
              "10             11.0             32.0             100.0       22.148045   \n",
              "11              1.0             42.0             100.0       16.099689   \n",
              "12              1.0             42.0             100.0       17.309973   \n",
              "13              0.0             25.0             100.0       10.931203   \n",
              "14              0.0             23.0             100.0       12.641076   \n",
              "15              1.0            100.0             100.0       11.043261   \n",
              "16              7.0             85.0             100.0       10.028439   \n",
              "17              1.0             22.0             100.0       12.661564   \n",
              "18              2.0             66.0             100.0       12.661564   \n",
              "19              2.0            100.0             100.0       12.496719   \n",
              "20              4.0             79.0             100.0        9.693295   \n",
              "21              2.0            100.0             100.0       10.390226   \n",
              "22              2.0            100.0             100.0        8.654986   \n",
              "23              8.0             96.0              99.0        6.287130   \n",
              "\n",
              "    wind_speed_100m  wind_direction_10m  wind_direction_100m  wind_gusts_10m  \n",
              "0         24.448214           12.528798            13.627024       23.400000  \n",
              "1         16.559999          354.472534           360.000000       18.000000  \n",
              "2         18.391735          352.304047           356.633606       21.959999  \n",
              "3         16.299694          350.272491           353.659912       24.840000  \n",
              "4         16.700275          351.027435           352.568695       26.280001  \n",
              "5         16.215992            1.548122             2.544756       27.359999  \n",
              "6         17.057314           44.999897            45.855011       28.080000  \n",
              "7         22.183128           48.270576            48.289345       29.879999  \n",
              "8         23.540806           23.051332            23.428713       32.399998  \n",
              "9         27.534704           10.124612            11.309896       31.319998  \n",
              "10        33.202072            7.471467             9.360123       34.560001  \n",
              "11        29.620802           10.304792            16.232428       33.480000  \n",
              "12        29.284180           16.927603            20.885889       25.199999  \n",
              "13        20.523157           17.241547            21.614847       16.199999  \n",
              "14        22.553934           19.983198            24.519630       18.719999  \n",
              "15        21.900904           19.025702            25.301346       18.719999  \n",
              "16        19.483284           21.037588            27.511923       15.840000  \n",
              "17        23.732710           14.826528            22.285641       18.359999  \n",
              "18        23.683512           14.826528            19.536749       19.080000  \n",
              "19        23.933908           11.633606            15.708701       18.359999  \n",
              "20        19.130875           15.068549            19.798973       18.000000  \n",
              "21        20.150354           14.036275            18.758749       15.119999  \n",
              "22        17.782688           16.927603            21.370695       15.119999  \n",
              "23        14.007655           23.629398            25.906460       11.879999  "
            ],
            "text/html": [
              "\n",
              "  <div id=\"df-695706f0-dc1e-4268-8f73-ebc292c8c927\" class=\"colab-df-container\">\n",
              "    <div>\n",
              "<style scoped>\n",
              "    .dataframe tbody tr th:only-of-type {\n",
              "        vertical-align: middle;\n",
              "    }\n",
              "\n",
              "    .dataframe tbody tr th {\n",
              "        vertical-align: top;\n",
              "    }\n",
              "\n",
              "    .dataframe thead th {\n",
              "        text-align: right;\n",
              "    }\n",
              "</style>\n",
              "<table border=\"1\" class=\"dataframe\">\n",
              "  <thead>\n",
              "    <tr style=\"text-align: right;\">\n",
              "      <th></th>\n",
              "      <th>date</th>\n",
              "      <th>temperature_2m</th>\n",
              "      <th>relative_humidity_2m</th>\n",
              "      <th>dew_point_2m</th>\n",
              "      <th>apparent_temperature</th>\n",
              "      <th>rain</th>\n",
              "      <th>pressure_msl</th>\n",
              "      <th>surface_pressure</th>\n",
              "      <th>cloud_cover</th>\n",
              "      <th>cloud_cover_low</th>\n",
              "      <th>cloud_cover_mid</th>\n",
              "      <th>cloud_cover_high</th>\n",
              "      <th>wind_speed_10m</th>\n",
              "      <th>wind_speed_100m</th>\n",
              "      <th>wind_direction_10m</th>\n",
              "      <th>wind_direction_100m</th>\n",
              "      <th>wind_gusts_10m</th>\n",
              "    </tr>\n",
              "  </thead>\n",
              "  <tbody>\n",
              "    <tr>\n",
              "      <th>0</th>\n",
              "      <td>2023-12-23 00:00:00</td>\n",
              "      <td>24.489500</td>\n",
              "      <td>65.655739</td>\n",
              "      <td>17.639500</td>\n",
              "      <td>25.303284</td>\n",
              "      <td>0.0</td>\n",
              "      <td>1014.000000</td>\n",
              "      <td>1011.907837</td>\n",
              "      <td>90.000008</td>\n",
              "      <td>0.0</td>\n",
              "      <td>100.0</td>\n",
              "      <td>100.0</td>\n",
              "      <td>13.276144</td>\n",
              "      <td>24.448214</td>\n",
              "      <td>12.528798</td>\n",
              "      <td>13.627024</td>\n",
              "      <td>23.400000</td>\n",
              "    </tr>\n",
              "    <tr>\n",
              "      <th>1</th>\n",
              "      <td>2023-12-23 01:00:00</td>\n",
              "      <td>25.139500</td>\n",
              "      <td>67.249718</td>\n",
              "      <td>18.639500</td>\n",
              "      <td>26.707281</td>\n",
              "      <td>0.0</td>\n",
              "      <td>1014.799988</td>\n",
              "      <td>1012.710632</td>\n",
              "      <td>90.000008</td>\n",
              "      <td>0.0</td>\n",
              "      <td>100.0</td>\n",
              "      <td>100.0</td>\n",
              "      <td>11.212135</td>\n",
              "      <td>16.559999</td>\n",
              "      <td>354.472534</td>\n",
              "      <td>360.000000</td>\n",
              "      <td>18.000000</td>\n",
              "    </tr>\n",
              "    <tr>\n",
              "      <th>2</th>\n",
              "      <td>2023-12-23 02:00:00</td>\n",
              "      <td>26.239500</td>\n",
              "      <td>63.595459</td>\n",
              "      <td>18.789499</td>\n",
              "      <td>27.551266</td>\n",
              "      <td>0.0</td>\n",
              "      <td>1015.200012</td>\n",
              "      <td>1013.117432</td>\n",
              "      <td>69.900002</td>\n",
              "      <td>0.0</td>\n",
              "      <td>67.0</td>\n",
              "      <td>99.0</td>\n",
              "      <td>13.441071</td>\n",
              "      <td>18.391735</td>\n",
              "      <td>352.304047</td>\n",
              "      <td>356.633606</td>\n",
              "      <td>21.959999</td>\n",
              "    </tr>\n",
              "    <tr>\n",
              "      <th>3</th>\n",
              "      <td>2023-12-23 03:00:00</td>\n",
              "      <td>27.539499</td>\n",
              "      <td>59.656425</td>\n",
              "      <td>18.989500</td>\n",
              "      <td>29.040123</td>\n",
              "      <td>0.0</td>\n",
              "      <td>1015.000000</td>\n",
              "      <td>1012.926697</td>\n",
              "      <td>20.100002</td>\n",
              "      <td>0.0</td>\n",
              "      <td>19.0</td>\n",
              "      <td>29.0</td>\n",
              "      <td>12.783802</td>\n",
              "      <td>16.299694</td>\n",
              "      <td>350.272491</td>\n",
              "      <td>353.659912</td>\n",
              "      <td>24.840000</td>\n",
              "    </tr>\n",
              "    <tr>\n",
              "      <th>4</th>\n",
              "      <td>2023-12-23 04:00:00</td>\n",
              "      <td>28.989500</td>\n",
              "      <td>56.387268</td>\n",
              "      <td>19.439499</td>\n",
              "      <td>31.179478</td>\n",
              "      <td>0.0</td>\n",
              "      <td>1014.599976</td>\n",
              "      <td>1012.537659</td>\n",
              "      <td>20.700001</td>\n",
              "      <td>0.0</td>\n",
              "      <td>24.0</td>\n",
              "      <td>21.0</td>\n",
              "      <td>13.849476</td>\n",
              "      <td>16.700275</td>\n",
              "      <td>351.027435</td>\n",
              "      <td>352.568695</td>\n",
              "      <td>26.280001</td>\n",
              "    </tr>\n",
              "    <tr>\n",
              "      <th>5</th>\n",
              "      <td>2023-12-23 05:00:00</td>\n",
              "      <td>30.939499</td>\n",
              "      <td>50.096413</td>\n",
              "      <td>19.339500</td>\n",
              "      <td>33.910789</td>\n",
              "      <td>0.0</td>\n",
              "      <td>1013.500000</td>\n",
              "      <td>1011.452881</td>\n",
              "      <td>62.100002</td>\n",
              "      <td>40.0</td>\n",
              "      <td>29.0</td>\n",
              "      <td>29.0</td>\n",
              "      <td>13.324863</td>\n",
              "      <td>16.215992</td>\n",
              "      <td>1.548122</td>\n",
              "      <td>2.544756</td>\n",
              "      <td>27.359999</td>\n",
              "    </tr>\n",
              "    <tr>\n",
              "      <th>6</th>\n",
              "      <td>2023-12-23 06:00:00</td>\n",
              "      <td>31.989498</td>\n",
              "      <td>46.031807</td>\n",
              "      <td>18.939499</td>\n",
              "      <td>34.114876</td>\n",
              "      <td>0.0</td>\n",
              "      <td>1012.599976</td>\n",
              "      <td>1010.561890</td>\n",
              "      <td>100.000000</td>\n",
              "      <td>85.0</td>\n",
              "      <td>24.0</td>\n",
              "      <td>31.0</td>\n",
              "      <td>14.255272</td>\n",
              "      <td>17.057314</td>\n",
              "      <td>44.999897</td>\n",
              "      <td>45.855011</td>\n",
              "      <td>28.080000</td>\n",
              "    </tr>\n",
              "    <tr>\n",
              "      <th>7</th>\n",
              "      <td>2023-12-23 07:00:00</td>\n",
              "      <td>32.589500</td>\n",
              "      <td>44.915600</td>\n",
              "      <td>19.089500</td>\n",
              "      <td>33.392406</td>\n",
              "      <td>0.0</td>\n",
              "      <td>1011.400024</td>\n",
              "      <td>1009.368225</td>\n",
              "      <td>63.299999</td>\n",
              "      <td>42.0</td>\n",
              "      <td>39.0</td>\n",
              "      <td>7.0</td>\n",
              "      <td>17.848160</td>\n",
              "      <td>22.183128</td>\n",
              "      <td>48.270576</td>\n",
              "      <td>48.289345</td>\n",
              "      <td>29.879999</td>\n",
              "    </tr>\n",
              "    <tr>\n",
              "      <th>8</th>\n",
              "      <td>2023-12-23 08:00:00</td>\n",
              "      <td>31.389500</td>\n",
              "      <td>47.477875</td>\n",
              "      <td>18.889500</td>\n",
              "      <td>32.020432</td>\n",
              "      <td>0.0</td>\n",
              "      <td>1011.200012</td>\n",
              "      <td>1009.160645</td>\n",
              "      <td>50.700005</td>\n",
              "      <td>18.0</td>\n",
              "      <td>56.0</td>\n",
              "      <td>3.0</td>\n",
              "      <td>18.388212</td>\n",
              "      <td>23.540806</td>\n",
              "      <td>23.051332</td>\n",
              "      <td>23.428713</td>\n",
              "      <td>32.399998</td>\n",
              "    </tr>\n",
              "    <tr>\n",
              "      <th>9</th>\n",
              "      <td>2023-12-23 09:00:00</td>\n",
              "      <td>30.289499</td>\n",
              "      <td>49.772243</td>\n",
              "      <td>18.639500</td>\n",
              "      <td>30.499783</td>\n",
              "      <td>0.0</td>\n",
              "      <td>1011.299988</td>\n",
              "      <td>1009.253235</td>\n",
              "      <td>100.000000</td>\n",
              "      <td>97.0</td>\n",
              "      <td>37.0</td>\n",
              "      <td>48.0</td>\n",
              "      <td>20.478907</td>\n",
              "      <td>27.534704</td>\n",
              "      <td>10.124612</td>\n",
              "      <td>11.309896</td>\n",
              "      <td>31.319998</td>\n",
              "    </tr>\n",
              "    <tr>\n",
              "      <th>10</th>\n",
              "      <td>2023-12-23 10:00:00</td>\n",
              "      <td>28.839500</td>\n",
              "      <td>53.605442</td>\n",
              "      <td>18.489500</td>\n",
              "      <td>28.738628</td>\n",
              "      <td>0.0</td>\n",
              "      <td>1012.000000</td>\n",
              "      <td>1009.941956</td>\n",
              "      <td>59.100002</td>\n",
              "      <td>11.0</td>\n",
              "      <td>32.0</td>\n",
              "      <td>100.0</td>\n",
              "      <td>22.148045</td>\n",
              "      <td>33.202072</td>\n",
              "      <td>7.471467</td>\n",
              "      <td>9.360123</td>\n",
              "      <td>34.560001</td>\n",
              "    </tr>\n",
              "    <tr>\n",
              "      <th>11</th>\n",
              "      <td>2023-12-23 11:00:00</td>\n",
              "      <td>27.889500</td>\n",
              "      <td>58.266674</td>\n",
              "      <td>18.939499</td>\n",
              "      <td>28.882412</td>\n",
              "      <td>0.0</td>\n",
              "      <td>1012.700012</td>\n",
              "      <td>1010.633972</td>\n",
              "      <td>56.100002</td>\n",
              "      <td>1.0</td>\n",
              "      <td>42.0</td>\n",
              "      <td>100.0</td>\n",
              "      <td>16.099689</td>\n",
              "      <td>29.620802</td>\n",
              "      <td>10.304792</td>\n",
              "      <td>16.232428</td>\n",
              "      <td>33.480000</td>\n",
              "    </tr>\n",
              "    <tr>\n",
              "      <th>12</th>\n",
              "      <td>2023-12-23 12:00:00</td>\n",
              "      <td>27.139500</td>\n",
              "      <td>57.004074</td>\n",
              "      <td>17.889500</td>\n",
              "      <td>27.473379</td>\n",
              "      <td>0.0</td>\n",
              "      <td>1013.700012</td>\n",
              "      <td>1011.626709</td>\n",
              "      <td>56.100002</td>\n",
              "      <td>1.0</td>\n",
              "      <td>42.0</td>\n",
              "      <td>100.0</td>\n",
              "      <td>17.309973</td>\n",
              "      <td>29.284180</td>\n",
              "      <td>16.927603</td>\n",
              "      <td>20.885889</td>\n",
              "      <td>25.199999</td>\n",
              "    </tr>\n",
              "    <tr>\n",
              "      <th>13</th>\n",
              "      <td>2023-12-23 13:00:00</td>\n",
              "      <td>26.439499</td>\n",
              "      <td>63.638824</td>\n",
              "      <td>18.989500</td>\n",
              "      <td>28.211578</td>\n",
              "      <td>0.0</td>\n",
              "      <td>1014.799988</td>\n",
              "      <td>1012.719421</td>\n",
              "      <td>45.000004</td>\n",
              "      <td>0.0</td>\n",
              "      <td>25.0</td>\n",
              "      <td>100.0</td>\n",
              "      <td>10.931203</td>\n",
              "      <td>20.523157</td>\n",
              "      <td>17.241547</td>\n",
              "      <td>21.614847</td>\n",
              "      <td>16.199999</td>\n",
              "    </tr>\n",
              "    <tr>\n",
              "      <th>14</th>\n",
              "      <td>2023-12-23 14:00:00</td>\n",
              "      <td>25.989500</td>\n",
              "      <td>62.162243</td>\n",
              "      <td>18.189499</td>\n",
              "      <td>27.140793</td>\n",
              "      <td>0.0</td>\n",
              "      <td>1015.200012</td>\n",
              "      <td>1013.115845</td>\n",
              "      <td>43.800003</td>\n",
              "      <td>0.0</td>\n",
              "      <td>23.0</td>\n",
              "      <td>100.0</td>\n",
              "      <td>12.641076</td>\n",
              "      <td>22.553934</td>\n",
              "      <td>19.983198</td>\n",
              "      <td>24.519630</td>\n",
              "      <td>18.719999</td>\n",
              "    </tr>\n",
              "    <tr>\n",
              "      <th>15</th>\n",
              "      <td>2023-12-23 15:00:00</td>\n",
              "      <td>25.389500</td>\n",
              "      <td>63.610237</td>\n",
              "      <td>17.989500</td>\n",
              "      <td>26.683969</td>\n",
              "      <td>0.0</td>\n",
              "      <td>1015.099976</td>\n",
              "      <td>1013.011536</td>\n",
              "      <td>90.900009</td>\n",
              "      <td>1.0</td>\n",
              "      <td>100.0</td>\n",
              "      <td>100.0</td>\n",
              "      <td>11.043261</td>\n",
              "      <td>21.900904</td>\n",
              "      <td>19.025702</td>\n",
              "      <td>25.301346</td>\n",
              "      <td>18.719999</td>\n",
              "    </tr>\n",
              "    <tr>\n",
              "      <th>16</th>\n",
              "      <td>2023-12-23 16:00:00</td>\n",
              "      <td>25.289499</td>\n",
              "      <td>63.388721</td>\n",
              "      <td>17.839500</td>\n",
              "      <td>26.664873</td>\n",
              "      <td>0.0</td>\n",
              "      <td>1015.099976</td>\n",
              "      <td>1013.010803</td>\n",
              "      <td>87.300003</td>\n",
              "      <td>7.0</td>\n",
              "      <td>85.0</td>\n",
              "      <td>100.0</td>\n",
              "      <td>10.028439</td>\n",
              "      <td>19.483284</td>\n",
              "      <td>21.037588</td>\n",
              "      <td>27.511923</td>\n",
              "      <td>15.840000</td>\n",
              "    </tr>\n",
              "    <tr>\n",
              "      <th>17</th>\n",
              "      <td>2023-12-23 17:00:00</td>\n",
              "      <td>24.989500</td>\n",
              "      <td>63.323074</td>\n",
              "      <td>17.539499</td>\n",
              "      <td>25.848434</td>\n",
              "      <td>0.0</td>\n",
              "      <td>1014.700012</td>\n",
              "      <td>1012.609863</td>\n",
              "      <td>44.100002</td>\n",
              "      <td>1.0</td>\n",
              "      <td>22.0</td>\n",
              "      <td>100.0</td>\n",
              "      <td>12.661564</td>\n",
              "      <td>23.732710</td>\n",
              "      <td>14.826528</td>\n",
              "      <td>22.285641</td>\n",
              "      <td>18.359999</td>\n",
              "    </tr>\n",
              "    <tr>\n",
              "      <th>18</th>\n",
              "      <td>2023-12-23 18:00:00</td>\n",
              "      <td>24.739500</td>\n",
              "      <td>63.669289</td>\n",
              "      <td>17.389500</td>\n",
              "      <td>25.533129</td>\n",
              "      <td>0.0</td>\n",
              "      <td>1014.400024</td>\n",
              "      <td>1012.308594</td>\n",
              "      <td>71.400002</td>\n",
              "      <td>2.0</td>\n",
              "      <td>66.0</td>\n",
              "      <td>100.0</td>\n",
              "      <td>12.661564</td>\n",
              "      <td>23.683512</td>\n",
              "      <td>14.826528</td>\n",
              "      <td>19.536749</td>\n",
              "      <td>19.080000</td>\n",
              "    </tr>\n",
              "    <tr>\n",
              "      <th>19</th>\n",
              "      <td>2023-12-23 19:00:00</td>\n",
              "      <td>24.639500</td>\n",
              "      <td>64.050934</td>\n",
              "      <td>17.389500</td>\n",
              "      <td>25.457260</td>\n",
              "      <td>0.0</td>\n",
              "      <td>1013.700012</td>\n",
              "      <td>1011.609436</td>\n",
              "      <td>91.800003</td>\n",
              "      <td>2.0</td>\n",
              "      <td>100.0</td>\n",
              "      <td>100.0</td>\n",
              "      <td>12.496719</td>\n",
              "      <td>23.933908</td>\n",
              "      <td>11.633606</td>\n",
              "      <td>15.708701</td>\n",
              "      <td>18.359999</td>\n",
              "    </tr>\n",
              "    <tr>\n",
              "      <th>20</th>\n",
              "      <td>2023-12-23 20:00:00</td>\n",
              "      <td>24.589500</td>\n",
              "      <td>65.676666</td>\n",
              "      <td>17.739500</td>\n",
              "      <td>25.969938</td>\n",
              "      <td>0.0</td>\n",
              "      <td>1013.599976</td>\n",
              "      <td>1011.509216</td>\n",
              "      <td>81.000000</td>\n",
              "      <td>4.0</td>\n",
              "      <td>79.0</td>\n",
              "      <td>100.0</td>\n",
              "      <td>9.693295</td>\n",
              "      <td>19.130875</td>\n",
              "      <td>15.068549</td>\n",
              "      <td>19.798973</td>\n",
              "      <td>18.000000</td>\n",
              "    </tr>\n",
              "    <tr>\n",
              "      <th>21</th>\n",
              "      <td>2023-12-23 21:00:00</td>\n",
              "      <td>24.589500</td>\n",
              "      <td>66.299774</td>\n",
              "      <td>17.889500</td>\n",
              "      <td>25.935131</td>\n",
              "      <td>0.0</td>\n",
              "      <td>1013.599976</td>\n",
              "      <td>1011.509216</td>\n",
              "      <td>91.800003</td>\n",
              "      <td>2.0</td>\n",
              "      <td>100.0</td>\n",
              "      <td>100.0</td>\n",
              "      <td>10.390226</td>\n",
              "      <td>20.150354</td>\n",
              "      <td>14.036275</td>\n",
              "      <td>18.758749</td>\n",
              "      <td>15.119999</td>\n",
              "    </tr>\n",
              "    <tr>\n",
              "      <th>22</th>\n",
              "      <td>2023-12-23 22:00:00</td>\n",
              "      <td>24.489500</td>\n",
              "      <td>68.180618</td>\n",
              "      <td>18.239500</td>\n",
              "      <td>26.246393</td>\n",
              "      <td>0.0</td>\n",
              "      <td>1014.000000</td>\n",
              "      <td>1011.907837</td>\n",
              "      <td>91.800003</td>\n",
              "      <td>2.0</td>\n",
              "      <td>100.0</td>\n",
              "      <td>100.0</td>\n",
              "      <td>8.654986</td>\n",
              "      <td>17.782688</td>\n",
              "      <td>16.927603</td>\n",
              "      <td>21.370695</td>\n",
              "      <td>15.119999</td>\n",
              "    </tr>\n",
              "    <tr>\n",
              "      <th>23</th>\n",
              "      <td>2023-12-23 23:00:00</td>\n",
              "      <td>24.389500</td>\n",
              "      <td>71.215477</td>\n",
              "      <td>18.839500</td>\n",
              "      <td>26.770042</td>\n",
              "      <td>0.0</td>\n",
              "      <td>1014.799988</td>\n",
              "      <td>1012.705200</td>\n",
              "      <td>94.500000</td>\n",
              "      <td>8.0</td>\n",
              "      <td>96.0</td>\n",
              "      <td>99.0</td>\n",
              "      <td>6.287130</td>\n",
              "      <td>14.007655</td>\n",
              "      <td>23.629398</td>\n",
              "      <td>25.906460</td>\n",
              "      <td>11.879999</td>\n",
              "    </tr>\n",
              "  </tbody>\n",
              "</table>\n",
              "</div>\n",
              "    <div class=\"colab-df-buttons\">\n",
              "\n",
              "  <div class=\"colab-df-container\">\n",
              "    <button class=\"colab-df-convert\" onclick=\"convertToInteractive('df-695706f0-dc1e-4268-8f73-ebc292c8c927')\"\n",
              "            title=\"Convert this dataframe to an interactive table.\"\n",
              "            style=\"display:none;\">\n",
              "\n",
              "  <svg xmlns=\"http://www.w3.org/2000/svg\" height=\"24px\" viewBox=\"0 -960 960 960\">\n",
              "    <path d=\"M120-120v-720h720v720H120Zm60-500h600v-160H180v160Zm220 220h160v-160H400v160Zm0 220h160v-160H400v160ZM180-400h160v-160H180v160Zm440 0h160v-160H620v160ZM180-180h160v-160H180v160Zm440 0h160v-160H620v160Z\"/>\n",
              "  </svg>\n",
              "    </button>\n",
              "\n",
              "  <style>\n",
              "    .colab-df-container {\n",
              "      display:flex;\n",
              "      gap: 12px;\n",
              "    }\n",
              "\n",
              "    .colab-df-convert {\n",
              "      background-color: #E8F0FE;\n",
              "      border: none;\n",
              "      border-radius: 50%;\n",
              "      cursor: pointer;\n",
              "      display: none;\n",
              "      fill: #1967D2;\n",
              "      height: 32px;\n",
              "      padding: 0 0 0 0;\n",
              "      width: 32px;\n",
              "    }\n",
              "\n",
              "    .colab-df-convert:hover {\n",
              "      background-color: #E2EBFA;\n",
              "      box-shadow: 0px 1px 2px rgba(60, 64, 67, 0.3), 0px 1px 3px 1px rgba(60, 64, 67, 0.15);\n",
              "      fill: #174EA6;\n",
              "    }\n",
              "\n",
              "    .colab-df-buttons div {\n",
              "      margin-bottom: 4px;\n",
              "    }\n",
              "\n",
              "    [theme=dark] .colab-df-convert {\n",
              "      background-color: #3B4455;\n",
              "      fill: #D2E3FC;\n",
              "    }\n",
              "\n",
              "    [theme=dark] .colab-df-convert:hover {\n",
              "      background-color: #434B5C;\n",
              "      box-shadow: 0px 1px 3px 1px rgba(0, 0, 0, 0.15);\n",
              "      filter: drop-shadow(0px 1px 2px rgba(0, 0, 0, 0.3));\n",
              "      fill: #FFFFFF;\n",
              "    }\n",
              "  </style>\n",
              "\n",
              "    <script>\n",
              "      const buttonEl =\n",
              "        document.querySelector('#df-695706f0-dc1e-4268-8f73-ebc292c8c927 button.colab-df-convert');\n",
              "      buttonEl.style.display =\n",
              "        google.colab.kernel.accessAllowed ? 'block' : 'none';\n",
              "\n",
              "      async function convertToInteractive(key) {\n",
              "        const element = document.querySelector('#df-695706f0-dc1e-4268-8f73-ebc292c8c927');\n",
              "        const dataTable =\n",
              "          await google.colab.kernel.invokeFunction('convertToInteractive',\n",
              "                                                    [key], {});\n",
              "        if (!dataTable) return;\n",
              "\n",
              "        const docLinkHtml = 'Like what you see? Visit the ' +\n",
              "          '<a target=\"_blank\" href=https://colab.research.google.com/notebooks/data_table.ipynb>data table notebook</a>'\n",
              "          + ' to learn more about interactive tables.';\n",
              "        element.innerHTML = '';\n",
              "        dataTable['output_type'] = 'display_data';\n",
              "        await google.colab.output.renderOutput(dataTable, element);\n",
              "        const docLink = document.createElement('div');\n",
              "        docLink.innerHTML = docLinkHtml;\n",
              "        element.appendChild(docLink);\n",
              "      }\n",
              "    </script>\n",
              "  </div>\n",
              "\n",
              "\n",
              "<div id=\"df-9ec509c7-45d7-4ccc-818e-43fab5d6f23f\">\n",
              "  <button class=\"colab-df-quickchart\" onclick=\"quickchart('df-9ec509c7-45d7-4ccc-818e-43fab5d6f23f')\"\n",
              "            title=\"Suggest charts\"\n",
              "            style=\"display:none;\">\n",
              "\n",
              "<svg xmlns=\"http://www.w3.org/2000/svg\" height=\"24px\"viewBox=\"0 0 24 24\"\n",
              "     width=\"24px\">\n",
              "    <g>\n",
              "        <path d=\"M19 3H5c-1.1 0-2 .9-2 2v14c0 1.1.9 2 2 2h14c1.1 0 2-.9 2-2V5c0-1.1-.9-2-2-2zM9 17H7v-7h2v7zm4 0h-2V7h2v10zm4 0h-2v-4h2v4z\"/>\n",
              "    </g>\n",
              "</svg>\n",
              "  </button>\n",
              "\n",
              "<style>\n",
              "  .colab-df-quickchart {\n",
              "      --bg-color: #E8F0FE;\n",
              "      --fill-color: #1967D2;\n",
              "      --hover-bg-color: #E2EBFA;\n",
              "      --hover-fill-color: #174EA6;\n",
              "      --disabled-fill-color: #AAA;\n",
              "      --disabled-bg-color: #DDD;\n",
              "  }\n",
              "\n",
              "  [theme=dark] .colab-df-quickchart {\n",
              "      --bg-color: #3B4455;\n",
              "      --fill-color: #D2E3FC;\n",
              "      --hover-bg-color: #434B5C;\n",
              "      --hover-fill-color: #FFFFFF;\n",
              "      --disabled-bg-color: #3B4455;\n",
              "      --disabled-fill-color: #666;\n",
              "  }\n",
              "\n",
              "  .colab-df-quickchart {\n",
              "    background-color: var(--bg-color);\n",
              "    border: none;\n",
              "    border-radius: 50%;\n",
              "    cursor: pointer;\n",
              "    display: none;\n",
              "    fill: var(--fill-color);\n",
              "    height: 32px;\n",
              "    padding: 0;\n",
              "    width: 32px;\n",
              "  }\n",
              "\n",
              "  .colab-df-quickchart:hover {\n",
              "    background-color: var(--hover-bg-color);\n",
              "    box-shadow: 0 1px 2px rgba(60, 64, 67, 0.3), 0 1px 3px 1px rgba(60, 64, 67, 0.15);\n",
              "    fill: var(--button-hover-fill-color);\n",
              "  }\n",
              "\n",
              "  .colab-df-quickchart-complete:disabled,\n",
              "  .colab-df-quickchart-complete:disabled:hover {\n",
              "    background-color: var(--disabled-bg-color);\n",
              "    fill: var(--disabled-fill-color);\n",
              "    box-shadow: none;\n",
              "  }\n",
              "\n",
              "  .colab-df-spinner {\n",
              "    border: 2px solid var(--fill-color);\n",
              "    border-color: transparent;\n",
              "    border-bottom-color: var(--fill-color);\n",
              "    animation:\n",
              "      spin 1s steps(1) infinite;\n",
              "  }\n",
              "\n",
              "  @keyframes spin {\n",
              "    0% {\n",
              "      border-color: transparent;\n",
              "      border-bottom-color: var(--fill-color);\n",
              "      border-left-color: var(--fill-color);\n",
              "    }\n",
              "    20% {\n",
              "      border-color: transparent;\n",
              "      border-left-color: var(--fill-color);\n",
              "      border-top-color: var(--fill-color);\n",
              "    }\n",
              "    30% {\n",
              "      border-color: transparent;\n",
              "      border-left-color: var(--fill-color);\n",
              "      border-top-color: var(--fill-color);\n",
              "      border-right-color: var(--fill-color);\n",
              "    }\n",
              "    40% {\n",
              "      border-color: transparent;\n",
              "      border-right-color: var(--fill-color);\n",
              "      border-top-color: var(--fill-color);\n",
              "    }\n",
              "    60% {\n",
              "      border-color: transparent;\n",
              "      border-right-color: var(--fill-color);\n",
              "    }\n",
              "    80% {\n",
              "      border-color: transparent;\n",
              "      border-right-color: var(--fill-color);\n",
              "      border-bottom-color: var(--fill-color);\n",
              "    }\n",
              "    90% {\n",
              "      border-color: transparent;\n",
              "      border-bottom-color: var(--fill-color);\n",
              "    }\n",
              "  }\n",
              "</style>\n",
              "\n",
              "  <script>\n",
              "    async function quickchart(key) {\n",
              "      const quickchartButtonEl =\n",
              "        document.querySelector('#' + key + ' button');\n",
              "      quickchartButtonEl.disabled = true;  // To prevent multiple clicks.\n",
              "      quickchartButtonEl.classList.add('colab-df-spinner');\n",
              "      try {\n",
              "        const charts = await google.colab.kernel.invokeFunction(\n",
              "            'suggestCharts', [key], {});\n",
              "      } catch (error) {\n",
              "        console.error('Error during call to suggestCharts:', error);\n",
              "      }\n",
              "      quickchartButtonEl.classList.remove('colab-df-spinner');\n",
              "      quickchartButtonEl.classList.add('colab-df-quickchart-complete');\n",
              "    }\n",
              "    (() => {\n",
              "      let quickchartButtonEl =\n",
              "        document.querySelector('#df-9ec509c7-45d7-4ccc-818e-43fab5d6f23f button');\n",
              "      quickchartButtonEl.style.display =\n",
              "        google.colab.kernel.accessAllowed ? 'block' : 'none';\n",
              "    })();\n",
              "  </script>\n",
              "</div>\n",
              "    </div>\n",
              "  </div>\n"
            ]
          },
          "metadata": {},
          "execution_count": 16
        }
      ]
    },
    {
      "cell_type": "code",
      "source": [
        "def get_last_year_week(date):\n",
        "  date_list = []\n",
        "  seven_days = 7*24\n",
        "  deltas = [-seven_days, -1, 1, seven_days]\n",
        "  date_milestone = []\n",
        "  for delta in deltas:\n",
        "    milestone = date + relativedelta(years= -1, hours= delta)\n",
        "    date_milestone.append(str(milestone))\n",
        "  return date_milestone\n",
        "\n",
        "def get_last_week(date):\n",
        "  week_far = date + relativedelta(days= -3)\n",
        "  week_near = date + relativedelta(days= -9)\n",
        "  return week_near, week_far\n",
        "\n",
        "def get_week_data(data, time_near, time_far):\n",
        "  pos1 = np.flatnonzero(data[\"date\"].to_numpy() == time_near)[0]\n",
        "  pos2 = np.flatnonzero(data[\"date\"].to_numpy() == time_far)[0]\n",
        "  return data.iloc[pos1:pos2+1, 1:].to_numpy(copy=True).flatten()\n",
        "\n",
        "def build_data(date, lat, long):\n",
        "  week_near, week_far = get_last_week(date)\n",
        "  last_week_df = get_weather_feats(lat, long, week_near.date(), week_far.date())\n",
        "  last_week_feats = last_week_df.iloc[:, 1:].to_numpy().flatten()\n",
        "\n",
        "  ly_near_milestone = date + relativedelta(years= -1, hours= -(24*7))\n",
        "  ly_far_milestone = date + relativedelta(years= -1, hours= 23 + 24*7)\n",
        "  last_year_df = get_weather_feats(lat, long, ly_near_milestone.date(),\n",
        "                                  ly_far_milestone.date())\n",
        "  data = []\n",
        "  hours = []\n",
        "  last_year_df[\"date\"] = last_year_df[\"date\"].astype(str)\n",
        "  for i in range(0, 24):\n",
        "    hour = date + relativedelta(hours= i)\n",
        "    ly_ms = get_last_year_week(hour)\n",
        "    ly_before_feats = get_week_data(last_year_df, ly_ms[0], ly_ms[1])\n",
        "    ly_after_feats = get_week_data(last_year_df, ly_ms[2], ly_ms[3])\n",
        "    features = np.concatenate([last_week_feats, ly_before_feats, ly_after_feats])\n",
        "    data.append(features)\n",
        "    hours.append(str(hour))\n",
        "  return np.array(data), hours\n",
        "\n",
        "today = datetime.fromisoformat(str(datetime.now().date()))\n",
        "today_data, hours = build_data(today, q1_lat, q1_long)"
      ],
      "metadata": {
        "id": "S8D1ca8xy_Bw"
      },
      "execution_count": null,
      "outputs": []
    },
    {
      "cell_type": "code",
      "source": [
        "test = get_weather_feats(q1_lat, q1_long, current_date, current_date)\n",
        "test.head()"
      ],
      "metadata": {
        "colab": {
          "base_uri": "https://localhost:8080/",
          "height": 399
        },
        "id": "PYs5evp3gl4X",
        "outputId": "0cde62fd-0841-41e8-b607-d18c1f68d168"
      },
      "execution_count": null,
      "outputs": [
        {
          "output_type": "execute_result",
          "data": {
            "text/plain": [
              "                 date  temperature_2m  relative_humidity_2m  dew_point_2m  \\\n",
              "0 2023-12-23 00:00:00             NaN                   NaN           NaN   \n",
              "1 2023-12-23 01:00:00             NaN                   NaN           NaN   \n",
              "2 2023-12-23 02:00:00             NaN                   NaN           NaN   \n",
              "3 2023-12-23 03:00:00             NaN                   NaN           NaN   \n",
              "4 2023-12-23 04:00:00             NaN                   NaN           NaN   \n",
              "\n",
              "   apparent_temperature  rain  pressure_msl  surface_pressure  cloud_cover  \\\n",
              "0                   NaN   NaN           NaN               NaN          NaN   \n",
              "1                   NaN   NaN           NaN               NaN          NaN   \n",
              "2                   NaN   NaN           NaN               NaN          NaN   \n",
              "3                   NaN   NaN           NaN               NaN          NaN   \n",
              "4                   NaN   NaN           NaN               NaN          NaN   \n",
              "\n",
              "   cloud_cover_low  cloud_cover_mid  cloud_cover_high  wind_speed_10m  \\\n",
              "0              NaN              NaN               NaN             NaN   \n",
              "1              NaN              NaN               NaN             NaN   \n",
              "2              NaN              NaN               NaN             NaN   \n",
              "3              NaN              NaN               NaN             NaN   \n",
              "4              NaN              NaN               NaN             NaN   \n",
              "\n",
              "   wind_speed_100m  wind_direction_10m  wind_direction_100m  wind_gusts_10m  \n",
              "0              NaN                 NaN                  NaN             NaN  \n",
              "1              NaN                 NaN                  NaN             NaN  \n",
              "2              NaN                 NaN                  NaN             NaN  \n",
              "3              NaN                 NaN                  NaN             NaN  \n",
              "4              NaN                 NaN                  NaN             NaN  "
            ],
            "text/html": [
              "\n",
              "  <div id=\"df-292ea21f-0c68-41dc-9e05-f3b7aaadebc3\" class=\"colab-df-container\">\n",
              "    <div>\n",
              "<style scoped>\n",
              "    .dataframe tbody tr th:only-of-type {\n",
              "        vertical-align: middle;\n",
              "    }\n",
              "\n",
              "    .dataframe tbody tr th {\n",
              "        vertical-align: top;\n",
              "    }\n",
              "\n",
              "    .dataframe thead th {\n",
              "        text-align: right;\n",
              "    }\n",
              "</style>\n",
              "<table border=\"1\" class=\"dataframe\">\n",
              "  <thead>\n",
              "    <tr style=\"text-align: right;\">\n",
              "      <th></th>\n",
              "      <th>date</th>\n",
              "      <th>temperature_2m</th>\n",
              "      <th>relative_humidity_2m</th>\n",
              "      <th>dew_point_2m</th>\n",
              "      <th>apparent_temperature</th>\n",
              "      <th>rain</th>\n",
              "      <th>pressure_msl</th>\n",
              "      <th>surface_pressure</th>\n",
              "      <th>cloud_cover</th>\n",
              "      <th>cloud_cover_low</th>\n",
              "      <th>cloud_cover_mid</th>\n",
              "      <th>cloud_cover_high</th>\n",
              "      <th>wind_speed_10m</th>\n",
              "      <th>wind_speed_100m</th>\n",
              "      <th>wind_direction_10m</th>\n",
              "      <th>wind_direction_100m</th>\n",
              "      <th>wind_gusts_10m</th>\n",
              "    </tr>\n",
              "  </thead>\n",
              "  <tbody>\n",
              "    <tr>\n",
              "      <th>0</th>\n",
              "      <td>2023-12-23 00:00:00</td>\n",
              "      <td>NaN</td>\n",
              "      <td>NaN</td>\n",
              "      <td>NaN</td>\n",
              "      <td>NaN</td>\n",
              "      <td>NaN</td>\n",
              "      <td>NaN</td>\n",
              "      <td>NaN</td>\n",
              "      <td>NaN</td>\n",
              "      <td>NaN</td>\n",
              "      <td>NaN</td>\n",
              "      <td>NaN</td>\n",
              "      <td>NaN</td>\n",
              "      <td>NaN</td>\n",
              "      <td>NaN</td>\n",
              "      <td>NaN</td>\n",
              "      <td>NaN</td>\n",
              "    </tr>\n",
              "    <tr>\n",
              "      <th>1</th>\n",
              "      <td>2023-12-23 01:00:00</td>\n",
              "      <td>NaN</td>\n",
              "      <td>NaN</td>\n",
              "      <td>NaN</td>\n",
              "      <td>NaN</td>\n",
              "      <td>NaN</td>\n",
              "      <td>NaN</td>\n",
              "      <td>NaN</td>\n",
              "      <td>NaN</td>\n",
              "      <td>NaN</td>\n",
              "      <td>NaN</td>\n",
              "      <td>NaN</td>\n",
              "      <td>NaN</td>\n",
              "      <td>NaN</td>\n",
              "      <td>NaN</td>\n",
              "      <td>NaN</td>\n",
              "      <td>NaN</td>\n",
              "    </tr>\n",
              "    <tr>\n",
              "      <th>2</th>\n",
              "      <td>2023-12-23 02:00:00</td>\n",
              "      <td>NaN</td>\n",
              "      <td>NaN</td>\n",
              "      <td>NaN</td>\n",
              "      <td>NaN</td>\n",
              "      <td>NaN</td>\n",
              "      <td>NaN</td>\n",
              "      <td>NaN</td>\n",
              "      <td>NaN</td>\n",
              "      <td>NaN</td>\n",
              "      <td>NaN</td>\n",
              "      <td>NaN</td>\n",
              "      <td>NaN</td>\n",
              "      <td>NaN</td>\n",
              "      <td>NaN</td>\n",
              "      <td>NaN</td>\n",
              "      <td>NaN</td>\n",
              "    </tr>\n",
              "    <tr>\n",
              "      <th>3</th>\n",
              "      <td>2023-12-23 03:00:00</td>\n",
              "      <td>NaN</td>\n",
              "      <td>NaN</td>\n",
              "      <td>NaN</td>\n",
              "      <td>NaN</td>\n",
              "      <td>NaN</td>\n",
              "      <td>NaN</td>\n",
              "      <td>NaN</td>\n",
              "      <td>NaN</td>\n",
              "      <td>NaN</td>\n",
              "      <td>NaN</td>\n",
              "      <td>NaN</td>\n",
              "      <td>NaN</td>\n",
              "      <td>NaN</td>\n",
              "      <td>NaN</td>\n",
              "      <td>NaN</td>\n",
              "      <td>NaN</td>\n",
              "    </tr>\n",
              "    <tr>\n",
              "      <th>4</th>\n",
              "      <td>2023-12-23 04:00:00</td>\n",
              "      <td>NaN</td>\n",
              "      <td>NaN</td>\n",
              "      <td>NaN</td>\n",
              "      <td>NaN</td>\n",
              "      <td>NaN</td>\n",
              "      <td>NaN</td>\n",
              "      <td>NaN</td>\n",
              "      <td>NaN</td>\n",
              "      <td>NaN</td>\n",
              "      <td>NaN</td>\n",
              "      <td>NaN</td>\n",
              "      <td>NaN</td>\n",
              "      <td>NaN</td>\n",
              "      <td>NaN</td>\n",
              "      <td>NaN</td>\n",
              "      <td>NaN</td>\n",
              "    </tr>\n",
              "  </tbody>\n",
              "</table>\n",
              "</div>\n",
              "    <div class=\"colab-df-buttons\">\n",
              "\n",
              "  <div class=\"colab-df-container\">\n",
              "    <button class=\"colab-df-convert\" onclick=\"convertToInteractive('df-292ea21f-0c68-41dc-9e05-f3b7aaadebc3')\"\n",
              "            title=\"Convert this dataframe to an interactive table.\"\n",
              "            style=\"display:none;\">\n",
              "\n",
              "  <svg xmlns=\"http://www.w3.org/2000/svg\" height=\"24px\" viewBox=\"0 -960 960 960\">\n",
              "    <path d=\"M120-120v-720h720v720H120Zm60-500h600v-160H180v160Zm220 220h160v-160H400v160Zm0 220h160v-160H400v160ZM180-400h160v-160H180v160Zm440 0h160v-160H620v160ZM180-180h160v-160H180v160Zm440 0h160v-160H620v160Z\"/>\n",
              "  </svg>\n",
              "    </button>\n",
              "\n",
              "  <style>\n",
              "    .colab-df-container {\n",
              "      display:flex;\n",
              "      gap: 12px;\n",
              "    }\n",
              "\n",
              "    .colab-df-convert {\n",
              "      background-color: #E8F0FE;\n",
              "      border: none;\n",
              "      border-radius: 50%;\n",
              "      cursor: pointer;\n",
              "      display: none;\n",
              "      fill: #1967D2;\n",
              "      height: 32px;\n",
              "      padding: 0 0 0 0;\n",
              "      width: 32px;\n",
              "    }\n",
              "\n",
              "    .colab-df-convert:hover {\n",
              "      background-color: #E2EBFA;\n",
              "      box-shadow: 0px 1px 2px rgba(60, 64, 67, 0.3), 0px 1px 3px 1px rgba(60, 64, 67, 0.15);\n",
              "      fill: #174EA6;\n",
              "    }\n",
              "\n",
              "    .colab-df-buttons div {\n",
              "      margin-bottom: 4px;\n",
              "    }\n",
              "\n",
              "    [theme=dark] .colab-df-convert {\n",
              "      background-color: #3B4455;\n",
              "      fill: #D2E3FC;\n",
              "    }\n",
              "\n",
              "    [theme=dark] .colab-df-convert:hover {\n",
              "      background-color: #434B5C;\n",
              "      box-shadow: 0px 1px 3px 1px rgba(0, 0, 0, 0.15);\n",
              "      filter: drop-shadow(0px 1px 2px rgba(0, 0, 0, 0.3));\n",
              "      fill: #FFFFFF;\n",
              "    }\n",
              "  </style>\n",
              "\n",
              "    <script>\n",
              "      const buttonEl =\n",
              "        document.querySelector('#df-292ea21f-0c68-41dc-9e05-f3b7aaadebc3 button.colab-df-convert');\n",
              "      buttonEl.style.display =\n",
              "        google.colab.kernel.accessAllowed ? 'block' : 'none';\n",
              "\n",
              "      async function convertToInteractive(key) {\n",
              "        const element = document.querySelector('#df-292ea21f-0c68-41dc-9e05-f3b7aaadebc3');\n",
              "        const dataTable =\n",
              "          await google.colab.kernel.invokeFunction('convertToInteractive',\n",
              "                                                    [key], {});\n",
              "        if (!dataTable) return;\n",
              "\n",
              "        const docLinkHtml = 'Like what you see? Visit the ' +\n",
              "          '<a target=\"_blank\" href=https://colab.research.google.com/notebooks/data_table.ipynb>data table notebook</a>'\n",
              "          + ' to learn more about interactive tables.';\n",
              "        element.innerHTML = '';\n",
              "        dataTable['output_type'] = 'display_data';\n",
              "        await google.colab.output.renderOutput(dataTable, element);\n",
              "        const docLink = document.createElement('div');\n",
              "        docLink.innerHTML = docLinkHtml;\n",
              "        element.appendChild(docLink);\n",
              "      }\n",
              "    </script>\n",
              "  </div>\n",
              "\n",
              "\n",
              "<div id=\"df-3f59ec6d-2649-4499-999a-6bad7b69cbc4\">\n",
              "  <button class=\"colab-df-quickchart\" onclick=\"quickchart('df-3f59ec6d-2649-4499-999a-6bad7b69cbc4')\"\n",
              "            title=\"Suggest charts\"\n",
              "            style=\"display:none;\">\n",
              "\n",
              "<svg xmlns=\"http://www.w3.org/2000/svg\" height=\"24px\"viewBox=\"0 0 24 24\"\n",
              "     width=\"24px\">\n",
              "    <g>\n",
              "        <path d=\"M19 3H5c-1.1 0-2 .9-2 2v14c0 1.1.9 2 2 2h14c1.1 0 2-.9 2-2V5c0-1.1-.9-2-2-2zM9 17H7v-7h2v7zm4 0h-2V7h2v10zm4 0h-2v-4h2v4z\"/>\n",
              "    </g>\n",
              "</svg>\n",
              "  </button>\n",
              "\n",
              "<style>\n",
              "  .colab-df-quickchart {\n",
              "      --bg-color: #E8F0FE;\n",
              "      --fill-color: #1967D2;\n",
              "      --hover-bg-color: #E2EBFA;\n",
              "      --hover-fill-color: #174EA6;\n",
              "      --disabled-fill-color: #AAA;\n",
              "      --disabled-bg-color: #DDD;\n",
              "  }\n",
              "\n",
              "  [theme=dark] .colab-df-quickchart {\n",
              "      --bg-color: #3B4455;\n",
              "      --fill-color: #D2E3FC;\n",
              "      --hover-bg-color: #434B5C;\n",
              "      --hover-fill-color: #FFFFFF;\n",
              "      --disabled-bg-color: #3B4455;\n",
              "      --disabled-fill-color: #666;\n",
              "  }\n",
              "\n",
              "  .colab-df-quickchart {\n",
              "    background-color: var(--bg-color);\n",
              "    border: none;\n",
              "    border-radius: 50%;\n",
              "    cursor: pointer;\n",
              "    display: none;\n",
              "    fill: var(--fill-color);\n",
              "    height: 32px;\n",
              "    padding: 0;\n",
              "    width: 32px;\n",
              "  }\n",
              "\n",
              "  .colab-df-quickchart:hover {\n",
              "    background-color: var(--hover-bg-color);\n",
              "    box-shadow: 0 1px 2px rgba(60, 64, 67, 0.3), 0 1px 3px 1px rgba(60, 64, 67, 0.15);\n",
              "    fill: var(--button-hover-fill-color);\n",
              "  }\n",
              "\n",
              "  .colab-df-quickchart-complete:disabled,\n",
              "  .colab-df-quickchart-complete:disabled:hover {\n",
              "    background-color: var(--disabled-bg-color);\n",
              "    fill: var(--disabled-fill-color);\n",
              "    box-shadow: none;\n",
              "  }\n",
              "\n",
              "  .colab-df-spinner {\n",
              "    border: 2px solid var(--fill-color);\n",
              "    border-color: transparent;\n",
              "    border-bottom-color: var(--fill-color);\n",
              "    animation:\n",
              "      spin 1s steps(1) infinite;\n",
              "  }\n",
              "\n",
              "  @keyframes spin {\n",
              "    0% {\n",
              "      border-color: transparent;\n",
              "      border-bottom-color: var(--fill-color);\n",
              "      border-left-color: var(--fill-color);\n",
              "    }\n",
              "    20% {\n",
              "      border-color: transparent;\n",
              "      border-left-color: var(--fill-color);\n",
              "      border-top-color: var(--fill-color);\n",
              "    }\n",
              "    30% {\n",
              "      border-color: transparent;\n",
              "      border-left-color: var(--fill-color);\n",
              "      border-top-color: var(--fill-color);\n",
              "      border-right-color: var(--fill-color);\n",
              "    }\n",
              "    40% {\n",
              "      border-color: transparent;\n",
              "      border-right-color: var(--fill-color);\n",
              "      border-top-color: var(--fill-color);\n",
              "    }\n",
              "    60% {\n",
              "      border-color: transparent;\n",
              "      border-right-color: var(--fill-color);\n",
              "    }\n",
              "    80% {\n",
              "      border-color: transparent;\n",
              "      border-right-color: var(--fill-color);\n",
              "      border-bottom-color: var(--fill-color);\n",
              "    }\n",
              "    90% {\n",
              "      border-color: transparent;\n",
              "      border-bottom-color: var(--fill-color);\n",
              "    }\n",
              "  }\n",
              "</style>\n",
              "\n",
              "  <script>\n",
              "    async function quickchart(key) {\n",
              "      const quickchartButtonEl =\n",
              "        document.querySelector('#' + key + ' button');\n",
              "      quickchartButtonEl.disabled = true;  // To prevent multiple clicks.\n",
              "      quickchartButtonEl.classList.add('colab-df-spinner');\n",
              "      try {\n",
              "        const charts = await google.colab.kernel.invokeFunction(\n",
              "            'suggestCharts', [key], {});\n",
              "      } catch (error) {\n",
              "        console.error('Error during call to suggestCharts:', error);\n",
              "      }\n",
              "      quickchartButtonEl.classList.remove('colab-df-spinner');\n",
              "      quickchartButtonEl.classList.add('colab-df-quickchart-complete');\n",
              "    }\n",
              "    (() => {\n",
              "      let quickchartButtonEl =\n",
              "        document.querySelector('#df-3f59ec6d-2649-4499-999a-6bad7b69cbc4 button');\n",
              "      quickchartButtonEl.style.display =\n",
              "        google.colab.kernel.accessAllowed ? 'block' : 'none';\n",
              "    })();\n",
              "  </script>\n",
              "</div>\n",
              "    </div>\n",
              "  </div>\n"
            ]
          },
          "metadata": {},
          "execution_count": 12
        }
      ]
    },
    {
      "cell_type": "code",
      "source": [
        "def load_model(data_path):\n",
        "  rain_sc = joblib.load(data_path + \"rain_sc.joblib\")\n",
        "  rain_pca = joblib.load(data_path + \"rain_pca.joblib\")\n",
        "  rain_rf = joblib.load(data_path + \"rain_rf.joblib\")\n",
        "\n",
        "  heat_sc = joblib.load(data_path + \"heat_sc.joblib\")\n",
        "  heat_pca = joblib.load(data_path + \"heat_pca.joblib\")\n",
        "  heat_svc = joblib.load(data_path + \"heat_svc.joblib\")\n",
        "\n",
        "  cloud_sc = joblib.load(data_path + \"cloud_sc.joblib\")\n",
        "  cloud_pca = joblib.load(data_path + \"cloud_pca.joblib\")\n",
        "  cloud_rf = joblib.load(data_path + \"cloud_rf.joblib\")\n",
        "\n",
        "  return (rain_sc, rain_pca, rain_rf,\n",
        "          heat_sc, heat_pca, heat_svc,\n",
        "          cloud_sc, cloud_pca, cloud_rf)"
      ],
      "metadata": {
        "id": "QbGId8BwbLSg"
      },
      "execution_count": null,
      "outputs": []
    },
    {
      "cell_type": "code",
      "source": [
        "def weather_forecast(data_path, today_data):\n",
        "  (rain_sc, rain_pca, rain_rf,\n",
        "  heat_sc, heat_pca, heat_svc,\n",
        "  cloud_sc, cloud_pca, cloud_rf) = load_model(data_path)\n",
        "\n",
        "  data_scaled = rain_sc.transform(today_data)\n",
        "  data_pca = rain_pca.transform(data_scaled)\n",
        "  rain_pred = rain_rf.predict(data_pca)\n",
        "\n",
        "  data_scaled = heat_sc.transform(today_data)\n",
        "  data_pca = heat_pca.transform(data_scaled)\n",
        "  heat_pred = heat_svc.predict(data_pca)\n",
        "\n",
        "  data_scaled = cloud_sc.transform(today_data)\n",
        "  data_pca = cloud_pca.transform(data_scaled)\n",
        "  cloud_pred = cloud_rf.predict(data_pca)\n",
        "  return [rain_pred, heat_pred, cloud_pred]\n",
        "\n",
        "predict = weather_forecast(data_path, today_data)"
      ],
      "metadata": {
        "id": "HrN2iXBqW0MT"
      },
      "execution_count": null,
      "outputs": []
    },
    {
      "cell_type": "code",
      "source": [
        "print(predict)"
      ],
      "metadata": {
        "colab": {
          "base_uri": "https://localhost:8080/"
        },
        "id": "L02AVhQmcwtP",
        "outputId": "1c8db2df-b22e-4220-a4de-20b70b3f89cb"
      },
      "execution_count": null,
      "outputs": [
        {
          "output_type": "stream",
          "name": "stdout",
          "text": [
            "[array([0, 0, 0, 0, 0, 0, 0, 0, 0, 0, 0, 0, 0, 0, 0, 0, 0, 0, 0, 0, 0, 0,\n",
            "       0, 0], dtype=int8), array([0, 0, 0, 0, 0, 1, 1, 1, 0, 0, 0, 0, 0, 0, 0, 0, 0, 0, 0, 0, 0, 0,\n",
            "       0, 0], dtype=int8), array([0, 0, 0, 0, 0, 0, 0, 0, 0, 0, 0, 0, 0, 0, 0, 0, 0, 0, 0, 0, 0, 0,\n",
            "       0, 0], dtype=int8)]\n"
          ]
        }
      ]
    },
    {
      "cell_type": "code",
      "source": [
        "rain_status = [\"Không mưa\", \"Mưa\"]\n",
        "heat_status = [\"Mát\", \"Nóng\", \"Nóng gay gắt\"]\n",
        "cloud_status = [\"Ít mây\", \"Nhiều mây\"]\n",
        "for i in range(0, 24):\n",
        "  print(hours[i], \":\")\n",
        "  print(rain_status[predict[0][i]])\n",
        "  print(heat_status[predict[1][i]])\n",
        "  print(cloud_status[predict[2][i]])"
      ],
      "metadata": {
        "colab": {
          "base_uri": "https://localhost:8080/"
        },
        "id": "IPeFf0z5XXMv",
        "outputId": "7837bf65-ce2d-42ff-b516-19dd7f597ac2"
      },
      "execution_count": null,
      "outputs": [
        {
          "output_type": "stream",
          "name": "stdout",
          "text": [
            "2023-12-25 00:00:00 :\n",
            "Không mưa\n",
            "Mát\n",
            "Ít mây\n",
            "2023-12-25 01:00:00 :\n",
            "Không mưa\n",
            "Mát\n",
            "Ít mây\n",
            "2023-12-25 02:00:00 :\n",
            "Không mưa\n",
            "Mát\n",
            "Ít mây\n",
            "2023-12-25 03:00:00 :\n",
            "Không mưa\n",
            "Mát\n",
            "Ít mây\n",
            "2023-12-25 04:00:00 :\n",
            "Không mưa\n",
            "Mát\n",
            "Ít mây\n",
            "2023-12-25 05:00:00 :\n",
            "Không mưa\n",
            "Nóng\n",
            "Ít mây\n",
            "2023-12-25 06:00:00 :\n",
            "Không mưa\n",
            "Nóng\n",
            "Ít mây\n",
            "2023-12-25 07:00:00 :\n",
            "Không mưa\n",
            "Nóng\n",
            "Ít mây\n",
            "2023-12-25 08:00:00 :\n",
            "Không mưa\n",
            "Mát\n",
            "Ít mây\n",
            "2023-12-25 09:00:00 :\n",
            "Không mưa\n",
            "Mát\n",
            "Ít mây\n",
            "2023-12-25 10:00:00 :\n",
            "Không mưa\n",
            "Mát\n",
            "Ít mây\n",
            "2023-12-25 11:00:00 :\n",
            "Không mưa\n",
            "Mát\n",
            "Ít mây\n",
            "2023-12-25 12:00:00 :\n",
            "Không mưa\n",
            "Mát\n",
            "Ít mây\n",
            "2023-12-25 13:00:00 :\n",
            "Không mưa\n",
            "Mát\n",
            "Ít mây\n",
            "2023-12-25 14:00:00 :\n",
            "Không mưa\n",
            "Mát\n",
            "Ít mây\n",
            "2023-12-25 15:00:00 :\n",
            "Không mưa\n",
            "Mát\n",
            "Ít mây\n",
            "2023-12-25 16:00:00 :\n",
            "Không mưa\n",
            "Mát\n",
            "Ít mây\n",
            "2023-12-25 17:00:00 :\n",
            "Không mưa\n",
            "Mát\n",
            "Ít mây\n",
            "2023-12-25 18:00:00 :\n",
            "Không mưa\n",
            "Mát\n",
            "Ít mây\n",
            "2023-12-25 19:00:00 :\n",
            "Không mưa\n",
            "Mát\n",
            "Ít mây\n",
            "2023-12-25 20:00:00 :\n",
            "Không mưa\n",
            "Mát\n",
            "Ít mây\n",
            "2023-12-25 21:00:00 :\n",
            "Không mưa\n",
            "Mát\n",
            "Ít mây\n",
            "2023-12-25 22:00:00 :\n",
            "Không mưa\n",
            "Mát\n",
            "Ít mây\n",
            "2023-12-25 23:00:00 :\n",
            "Không mưa\n",
            "Mát\n",
            "Ít mây\n"
          ]
        }
      ]
    }
  ]
}